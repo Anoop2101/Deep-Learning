{
 "cells": [
  {
   "cell_type": "markdown",
   "id": "2893bacb",
   "metadata": {},
   "source": [
    "### Ecommerce Text Classification"
   ]
  },
  {
   "cell_type": "markdown",
   "id": "cab905c1",
   "metadata": {},
   "source": [
    "***"
   ]
  },
  {
   "cell_type": "markdown",
   "id": "cea8d0e2",
   "metadata": {},
   "source": [
    "This is the classification based E-commerce text dataset for 4 categories - \"Electronics\", \"Household\", \"Books\" and \"Clothing & Accessories\", which almost cover 80% of any E-commerce website.\n",
    "\n",
    "The dataset is in \".csv\" format with two columns - the first column is the class name and the second one is the datapoint of that class. The data point is the product and description from the e-commerce website."
   ]
  },
  {
   "cell_type": "code",
   "execution_count": 19,
   "id": "b6b2ea6c",
   "metadata": {},
   "outputs": [],
   "source": [
    "import numpy as np\n",
    "import pandas as pd\n",
    "import matplotlib.pyplot as plt\n",
    "import seaborn as sns\n",
    "import re\n",
    "from nltk.stem import WordNetLemmatizer\n",
    "from tensorflow.keras.preprocessing.text import Tokenizer\n",
    "from tensorflow.keras.preprocessing.sequence import pad_sequences\n",
    "from sklearn.model_selection import train_test_split\n",
    "from tensorflow.keras import Sequential, layers\n",
    "from sklearn.metrics import accuracy_score, confusion_matrix, classification_report"
   ]
  },
  {
   "cell_type": "markdown",
   "id": "13947023",
   "metadata": {},
   "source": [
    "### Read 'ecommerceDataset.csv'"
   ]
  },
  {
   "cell_type": "code",
   "execution_count": 20,
   "id": "0be115c8",
   "metadata": {},
   "outputs": [],
   "source": [
    "df = pd.read_csv('ecommerceDataset.csv', header = None)"
   ]
  },
  {
   "cell_type": "code",
   "execution_count": 21,
   "id": "95a0aed2",
   "metadata": {},
   "outputs": [],
   "source": [
    "df = df.sample(frac = 1)"
   ]
  },
  {
   "cell_type": "code",
   "execution_count": 22,
   "id": "bb7db9c8",
   "metadata": {},
   "outputs": [],
   "source": [
    "df.reset_index(drop = True, inplace = True)"
   ]
  },
  {
   "cell_type": "code",
   "execution_count": 23,
   "id": "876cadfd",
   "metadata": {},
   "outputs": [],
   "source": [
    "df = df[0:1000]"
   ]
  },
  {
   "cell_type": "code",
   "execution_count": 24,
   "id": "be3060d2",
   "metadata": {},
   "outputs": [
    {
     "data": {
      "text/html": [
       "<div>\n",
       "<style scoped>\n",
       "    .dataframe tbody tr th:only-of-type {\n",
       "        vertical-align: middle;\n",
       "    }\n",
       "\n",
       "    .dataframe tbody tr th {\n",
       "        vertical-align: top;\n",
       "    }\n",
       "\n",
       "    .dataframe thead th {\n",
       "        text-align: right;\n",
       "    }\n",
       "</style>\n",
       "<table border=\"1\" class=\"dataframe\">\n",
       "  <thead>\n",
       "    <tr style=\"text-align: right;\">\n",
       "      <th></th>\n",
       "      <th>0</th>\n",
       "      <th>1</th>\n",
       "    </tr>\n",
       "  </thead>\n",
       "  <tbody>\n",
       "    <tr>\n",
       "      <th>0</th>\n",
       "      <td>Clothing &amp; Accessories</td>\n",
       "      <td>Hind Home Party and Lounge Wear Bow for Boys A...</td>\n",
       "    </tr>\n",
       "    <tr>\n",
       "      <th>1</th>\n",
       "      <td>Household</td>\n",
       "      <td>Philips 61013 Air 5-Watt LED Desklight (Black)...</td>\n",
       "    </tr>\n",
       "    <tr>\n",
       "      <th>2</th>\n",
       "      <td>Electronics</td>\n",
       "      <td>Electomania Computer Motherboard Power Cable S...</td>\n",
       "    </tr>\n",
       "    <tr>\n",
       "      <th>3</th>\n",
       "      <td>Electronics</td>\n",
       "      <td>Lenovo 65W Slim port AC Adapter (IN) Its lenov...</td>\n",
       "    </tr>\n",
       "    <tr>\n",
       "      <th>4</th>\n",
       "      <td>Household</td>\n",
       "      <td>Bright Electronics 3w LED spot Track Light(Foc...</td>\n",
       "    </tr>\n",
       "  </tbody>\n",
       "</table>\n",
       "</div>"
      ],
      "text/plain": [
       "                        0                                                  1\n",
       "0  Clothing & Accessories  Hind Home Party and Lounge Wear Bow for Boys A...\n",
       "1               Household  Philips 61013 Air 5-Watt LED Desklight (Black)...\n",
       "2             Electronics  Electomania Computer Motherboard Power Cable S...\n",
       "3             Electronics  Lenovo 65W Slim port AC Adapter (IN) Its lenov...\n",
       "4               Household  Bright Electronics 3w LED spot Track Light(Foc..."
      ]
     },
     "execution_count": 24,
     "metadata": {},
     "output_type": "execute_result"
    }
   ],
   "source": [
    "df.head()"
   ]
  },
  {
   "cell_type": "markdown",
   "id": "2f134edf",
   "metadata": {},
   "source": [
    "### Check info"
   ]
  },
  {
   "cell_type": "code",
   "execution_count": 25,
   "id": "7e7e63e8",
   "metadata": {},
   "outputs": [
    {
     "name": "stdout",
     "output_type": "stream",
     "text": [
      "<class 'pandas.core.frame.DataFrame'>\n",
      "RangeIndex: 1000 entries, 0 to 999\n",
      "Data columns (total 2 columns):\n",
      " #   Column  Non-Null Count  Dtype \n",
      "---  ------  --------------  ----- \n",
      " 0   0       1000 non-null   object\n",
      " 1   1       1000 non-null   object\n",
      "dtypes: object(2)\n",
      "memory usage: 15.8+ KB\n"
     ]
    }
   ],
   "source": [
    "df.info()"
   ]
  },
  {
   "cell_type": "markdown",
   "id": "6ddb6118",
   "metadata": {},
   "source": [
    "### Check for missing values"
   ]
  },
  {
   "cell_type": "code",
   "execution_count": 26,
   "id": "7210798c",
   "metadata": {},
   "outputs": [
    {
     "data": {
      "text/plain": [
       "0    0\n",
       "1    0\n",
       "dtype: int64"
      ]
     },
     "execution_count": 26,
     "metadata": {},
     "output_type": "execute_result"
    }
   ],
   "source": [
    "df.isna().sum()"
   ]
  },
  {
   "cell_type": "markdown",
   "id": "ddfee8a5",
   "metadata": {},
   "source": [
    "### Drop missing rows"
   ]
  },
  {
   "cell_type": "code",
   "execution_count": 27,
   "id": "53d8e062",
   "metadata": {},
   "outputs": [],
   "source": [
    "df.dropna(inplace = True)"
   ]
  },
  {
   "cell_type": "markdown",
   "id": "b329541d",
   "metadata": {},
   "source": [
    "### Print some of the text along with its Label"
   ]
  },
  {
   "cell_type": "code",
   "execution_count": 28,
   "id": "929a39cf",
   "metadata": {},
   "outputs": [
    {
     "name": "stdout",
     "output_type": "stream",
     "text": [
      "Clothing & Accessories -- Hind Home Party and Lounge Wear Bow for Boys And Men Multicolor Pack Of 3 (Black,Red,Royal Blue) Buy this very classy Bow Tie proffered to you from Hind Home This pre-tied bow tie is very adjustable and easy to wear. Giving off vibes of elegance and class, this one is carefully picked to complement a very sleek and sexy suit of the same shade or one that contrasts. Handmade with love and tendered in the middle with extra caution to ensure finest quality for your product which is made of Satin.\n",
      "\n",
      "Household -- Philips 61013 Air 5-Watt LED Desklight (Black) Save up to 80% energy compared to your standard bulb. It pays for itself and saves you money year after year. So reduce your energy bill and start saving now.\n",
      "\n",
      "Electronics -- Electomania Computer Motherboard Power Cable Switch on/ff/Reset Button Replacement -10 Pieces Replace a broken power switch cable or design your own case mod with this on/off switch cable  Fits onto your motherboard's power switch and reset key  This item has been made with long-lasting materials and it is ready to serve performance  Great item for case mods and on/off buttons Wire length: Approx. 45Cm / 17.7 Inch Usage: It can be use as reset key in other situation Package Includes: 10 x Power Reset Button Cable.\n",
      "\n",
      "Electronics -- Lenovo 65W Slim port AC Adapter (IN) Its lenovo 100% genuine adapter having lenovo (india) warranty with power cord. Get power whenever and wherever you need it. Keep one in the office, one at home and another in your carrying case for convenient access to power. Just plug it into an available outlet to deliver ac power to the compatible lenovo nbs listed below and to recharge the system battery. Lenovo ac adapters are compact, energy efficient and backed by a 1-year warranty. U330p/u330 touch u430p/u430 touch s500/s500 touch s410 flex/s510 flex s410p/s510p flex 14/flex 15 z710 z410/z510 z510 touch g700/g710 g400/g500 g405/g505 g410/g510 z/g series(lancer) g400s/g500s g405s/g505s g400s touch/g500s touch g410s/g510s flex2 series(mybo) flex2 pro-15(viper 5a) b/e/n(freelander/discovery/boxster) flex 3 15xx(camaro5) flex 3 pro-1580 & edge 2-1580 tesla(s41) & u41 & u31 lenovo ideapad 500s-15isk(u51) gx1 zx1 bx1 k/m41(macan) systems with a cpu between 15 w and 47 w (excluding 47 w) and integrated graphics and a 15 w cpu and discrete graphics1. Performs to the same specifications as the standard 65w ac adapter that ships with the notebooks. 2. Supports independent graphics lenovo notebooks. 3. Backed by a warranty and service and support from lenovo.\n",
      "\n",
      "Household -- Bright Electronics 3w LED spot Track Light(Focus), Metal Body, with 2 Year Warranty, Color: Warm White Light Color Name:yellow   Product Overview✔️ Bright Electronics stylish 3w LED spot light in warm white color ✔️Easy to install, Waterproof, 2year warranty . ✔️ Low power consumption\n",
      "\n"
     ]
    }
   ],
   "source": [
    "for i in range(5):\n",
    "    print(df[0][i],'--',df[1][i])\n",
    "    print()"
   ]
  },
  {
   "cell_type": "markdown",
   "id": "8261530c",
   "metadata": {},
   "source": [
    "### Create a function to preprocess the text"
   ]
  },
  {
   "cell_type": "code",
   "execution_count": 29,
   "id": "9dbc6fe4",
   "metadata": {},
   "outputs": [],
   "source": [
    "def preprocess(sentence):\n",
    "    sentence = sentence.lower()\n",
    "    \n",
    "    text = re.sub(r\"[^a-zA-Z0-9]\", ' ', sentence).split()\n",
    "    \n",
    "    lemma = WordNetLemmatizer()\n",
    "    text = [lemma.lemmatize(i) for i in text]\n",
    "    \n",
    "    return ' '.join(text)"
   ]
  },
  {
   "cell_type": "code",
   "execution_count": 30,
   "id": "b9dbec61",
   "metadata": {},
   "outputs": [],
   "source": [
    "df[1] = df[1].apply(preprocess)"
   ]
  },
  {
   "cell_type": "markdown",
   "id": "6ca61a38",
   "metadata": {},
   "source": [
    "### Print some of the texts after the applying the function"
   ]
  },
  {
   "cell_type": "code",
   "execution_count": 31,
   "id": "1a16a6fa",
   "metadata": {},
   "outputs": [
    {
     "name": "stdout",
     "output_type": "stream",
     "text": [
      "Clothing & Accessories -- hind home party and lounge wear bow for boy and men multicolor pack of 3 black red royal blue buy this very classy bow tie proffered to you from hind home this pre tied bow tie is very adjustable and easy to wear giving off vibe of elegance and class this one is carefully picked to complement a very sleek and sexy suit of the same shade or one that contrast handmade with love and tendered in the middle with extra caution to ensure finest quality for your product which is made of satin\n",
      "\n",
      "Household -- philip 61013 air 5 watt led desklight black save up to 80 energy compared to your standard bulb it pay for itself and save you money year after year so reduce your energy bill and start saving now\n",
      "\n",
      "Electronics -- electomania computer motherboard power cable switch on ff reset button replacement 10 piece replace a broken power switch cable or design your own case mod with this on off switch cable fit onto your motherboard s power switch and reset key this item ha been made with long lasting material and it is ready to serve performance great item for case mod and on off button wire length approx 45cm 17 7 inch usage it can be use a reset key in other situation package includes 10 x power reset button cable\n",
      "\n",
      "Electronics -- lenovo 65w slim port ac adapter in it lenovo 100 genuine adapter having lenovo india warranty with power cord get power whenever and wherever you need it keep one in the office one at home and another in your carrying case for convenient access to power just plug it into an available outlet to deliver ac power to the compatible lenovo nb listed below and to recharge the system battery lenovo ac adapter are compact energy efficient and backed by a 1 year warranty u330p u330 touch u430p u430 touch s500 s500 touch s410 flex s510 flex s410p s510p flex 14 flex 15 z710 z410 z510 z510 touch g700 g710 g400 g500 g405 g505 g410 g510 z g series lancer g400s g500s g405s g505s g400s touch g500s touch g410s g510s flex2 series mybo flex2 pro 15 viper 5a b e n freelander discovery boxster flex 3 15xx camaro5 flex 3 pro 1580 edge 2 1580 tesla s41 u41 u31 lenovo ideapad 500 15isk u51 gx1 zx1 bx1 k m41 macan system with a cpu between 15 w and 47 w excluding 47 w and integrated graphic and a 15 w cpu and discrete graphics1 performs to the same specification a the standard 65w ac adapter that ship with the notebook 2 support independent graphic lenovo notebook 3 backed by a warranty and service and support from lenovo\n",
      "\n",
      "Household -- bright electronics 3w led spot track light focus metal body with 2 year warranty color warm white light color name yellow product overview bright electronics stylish 3w led spot light in warm white color easy to install waterproof 2year warranty low power consumption\n",
      "\n"
     ]
    }
   ],
   "source": [
    "for i in range(5):\n",
    "    print(df[0][i],'--',df[1][i])\n",
    "    print()"
   ]
  },
  {
   "cell_type": "markdown",
   "id": "6453c4c8",
   "metadata": {},
   "source": [
    "### Check for imbalance in the dataset"
   ]
  },
  {
   "cell_type": "code",
   "execution_count": 32,
   "id": "b26a2b82",
   "metadata": {},
   "outputs": [
    {
     "data": {
      "text/plain": [
       "<Axes: ylabel='count'>"
      ]
     },
     "execution_count": 32,
     "metadata": {},
     "output_type": "execute_result"
    },
    {
     "data": {
      "image/png": "[encoded data removed]",
      "text/plain": [
       "<Figure size 1400x400 with 2 Axes>"
      ]
     },
     "metadata": {},
     "output_type": "display_data"
    }
   ],
   "source": [
    "plt.figure(figsize= (14,4))\n",
    "plt.subplot(1,2,1)\n",
    "sns.countplot(y = df[0])\n",
    "plt.subplot(1,2,2)\n",
    "df[0].value_counts().plot.pie(autopct = '%1.1f%%', cmap = 'plasma')"
   ]
  },
  {
   "cell_type": "markdown",
   "id": "ae6df594",
   "metadata": {},
   "source": [
    "### Split the dataset into Input & Target Variables"
   ]
  },
  {
   "cell_type": "code",
   "execution_count": 33,
   "id": "35bba160",
   "metadata": {},
   "outputs": [],
   "source": [
    "X = df[1]"
   ]
  },
  {
   "cell_type": "code",
   "execution_count": 34,
   "id": "700b5d61",
   "metadata": {},
   "outputs": [],
   "source": [
    "y = df[0]"
   ]
  },
  {
   "cell_type": "markdown",
   "id": "391c3c5e",
   "metadata": {},
   "source": [
    "### Label Encode our Target Variables"
   ]
  },
  {
   "cell_type": "code",
   "execution_count": 35,
   "id": "b23ffb32",
   "metadata": {},
   "outputs": [],
   "source": [
    "y = y.map({'Household':0,'Books':1, 'Clothing & Accessories':2, 'Electronics':3})"
   ]
  },
  {
   "cell_type": "markdown",
   "id": "dd925a6a",
   "metadata": {},
   "source": [
    "### Create Keras tokenizer object with 5000 max words\n",
    "* Convert text to sequence\n",
    "* Add padding"
   ]
  },
  {
   "cell_type": "code",
   "execution_count": 36,
   "id": "1602b299",
   "metadata": {},
   "outputs": [],
   "source": [
    "tokenizer = Tokenizer(num_words=5000)\n",
    "tokenizer.fit_on_texts(X)\n",
    "vocab_size = len(tokenizer.word_index) + 1\n",
    "\n",
    "def text_encoding(txt):\n",
    "    encoded_docs = tokenizer.texts_to_sequences(txt)\n",
    "    \n",
    "    padded_sequence = pad_sequences(encoded_docs, maxlen = 128)\n",
    "    \n",
    "    return padded_sequence\n",
    "\n",
    "X = text_encoding(X)"
   ]
  },
  {
   "cell_type": "markdown",
   "id": "646a5215",
   "metadata": {},
   "source": [
    "### Split the dataset into Training & Testing set"
   ]
  },
  {
   "cell_type": "code",
   "execution_count": 37,
   "id": "031d0aeb",
   "metadata": {},
   "outputs": [],
   "source": [
    "X_train, X_test,y_train,y_test = train_test_split(X,y, test_size = 0.2)"
   ]
  },
  {
   "cell_type": "markdown",
   "id": "8a03f6e5",
   "metadata": {},
   "source": [
    "### Create keras Sequential model with Bidirectional LSTM layers"
   ]
  },
  {
   "cell_type": "code",
   "execution_count": 39,
   "id": "df2f07b8",
   "metadata": {},
   "outputs": [],
   "source": [
    "model = Sequential()\n",
    "\n",
    "model.add(layers.Embedding(vocab_size, 128))\n",
    "\n",
    "model.add(layers.Bidirectional(layers.LSTM(128, return_sequences=True)))\n",
    "model.add(layers.Dropout(0.2))\n",
    "\n",
    "model.add(layers.Bidirectional(layers.LSTM(128)))\n",
    "model.add(layers.Dropout(0.2))\n",
    "\n",
    "model.add(layers.Dense(4, activation = 'sigmoid'))"
   ]
  },
  {
   "cell_type": "markdown",
   "id": "3652d285",
   "metadata": {},
   "source": [
    "### Compile the model"
   ]
  },
  {
   "cell_type": "code",
   "execution_count": 40,
   "id": "7257228e",
   "metadata": {},
   "outputs": [],
   "source": [
    "model.compile(optimizer = 'adam', loss= 'sparse_categorical_crossentropy', metrics = ['accuracy'])"
   ]
  },
  {
   "cell_type": "markdown",
   "id": "00de5e0e",
   "metadata": {},
   "source": [
    "### Train the model"
   ]
  },
  {
   "cell_type": "code",
   "execution_count": 41,
   "id": "b3b014fc",
   "metadata": {},
   "outputs": [
    {
     "name": "stdout",
     "output_type": "stream",
     "text": [
      "Epoch 1/10\n",
      "\u001b[1m24/24\u001b[0m \u001b[32m━━━━━━━━━━━━━━━━━━━━\u001b[0m\u001b[37m\u001b[0m \u001b[1m19s\u001b[0m 324ms/step - accuracy: 0.3788 - loss: 1.3463 - val_accuracy: 0.4500 - val_loss: 1.2526\n",
      "Epoch 2/10\n",
      "\u001b[1m24/24\u001b[0m \u001b[32m━━━━━━━━━━━━━━━━━━━━\u001b[0m\u001b[37m\u001b[0m \u001b[1m6s\u001b[0m 266ms/step - accuracy: 0.5983 - loss: 0.9365 - val_accuracy: 0.5500 - val_loss: 1.2472\n",
      "Epoch 3/10\n",
      "\u001b[1m24/24\u001b[0m \u001b[32m━━━━━━━━━━━━━━━━━━━━\u001b[0m\u001b[37m\u001b[0m \u001b[1m7s\u001b[0m 271ms/step - accuracy: 0.7698 - loss: 0.6147 - val_accuracy: 0.5750 - val_loss: 1.0104\n",
      "Epoch 4/10\n",
      "\u001b[1m24/24\u001b[0m \u001b[32m━━━━━━━━━━━━━━━━━━━━\u001b[0m\u001b[37m\u001b[0m \u001b[1m6s\u001b[0m 266ms/step - accuracy: 0.8973 - loss: 0.3217 - val_accuracy: 0.6500 - val_loss: 0.9761\n",
      "Epoch 5/10\n",
      "\u001b[1m24/24\u001b[0m \u001b[32m━━━━━━━━━━━━━━━━━━━━\u001b[0m\u001b[37m\u001b[0m \u001b[1m6s\u001b[0m 268ms/step - accuracy: 0.9434 - loss: 0.1942 - val_accuracy: 0.6250 - val_loss: 1.3126\n",
      "Epoch 6/10\n",
      "\u001b[1m24/24\u001b[0m \u001b[32m━━━━━━━━━━━━━━━━━━━━\u001b[0m\u001b[37m\u001b[0m \u001b[1m7s\u001b[0m 271ms/step - accuracy: 0.9710 - loss: 0.1158 - val_accuracy: 0.6250 - val_loss: 1.0595\n",
      "Epoch 7/10\n",
      "\u001b[1m24/24\u001b[0m \u001b[32m━━━━━━━━━━━━━━━━━━━━\u001b[0m\u001b[37m\u001b[0m \u001b[1m7s\u001b[0m 272ms/step - accuracy: 0.9938 - loss: 0.0375 - val_accuracy: 0.6500 - val_loss: 1.1498\n",
      "Epoch 8/10\n",
      "\u001b[1m24/24\u001b[0m \u001b[32m━━━━━━━━━━━━━━━━━━━━\u001b[0m\u001b[37m\u001b[0m \u001b[1m7s\u001b[0m 270ms/step - accuracy: 0.9879 - loss: 0.0574 - val_accuracy: 0.6500 - val_loss: 1.0974\n",
      "Epoch 9/10\n",
      "\u001b[1m24/24\u001b[0m \u001b[32m━━━━━━━━━━━━━━━━━━━━\u001b[0m\u001b[37m\u001b[0m \u001b[1m7s\u001b[0m 272ms/step - accuracy: 0.9950 - loss: 0.0206 - val_accuracy: 0.7000 - val_loss: 1.1929\n",
      "Epoch 10/10\n",
      "\u001b[1m24/24\u001b[0m \u001b[32m━━━━━━━━━━━━━━━━━━━━\u001b[0m\u001b[37m\u001b[0m \u001b[1m7s\u001b[0m 271ms/step - accuracy: 0.9995 - loss: 0.0105 - val_accuracy: 0.7750 - val_loss: 1.0930\n"
     ]
    },
    {
     "data": {
      "text/plain": [
       "<keras.src.callbacks.history.History at 0x23ec8dca550>"
      ]
     },
     "execution_count": 41,
     "metadata": {},
     "output_type": "execute_result"
    }
   ],
   "source": [
    "model.fit(X_train, y_train, epochs = 10, validation_split=0.05)"
   ]
  },
  {
   "cell_type": "markdown",
   "id": "7286d926",
   "metadata": {},
   "source": [
    "### Make predictions with X_test"
   ]
  },
  {
   "cell_type": "code",
   "execution_count": 42,
   "id": "9c0c2c9a",
   "metadata": {},
   "outputs": [
    {
     "name": "stdout",
     "output_type": "stream",
     "text": [
      "\u001b[1m7/7\u001b[0m \u001b[32m━━━━━━━━━━━━━━━━━━━━\u001b[0m\u001b[37m\u001b[0m \u001b[1m3s\u001b[0m 251ms/step\n"
     ]
    }
   ],
   "source": [
    "y_pred = model.predict(X_test)"
   ]
  },
  {
   "cell_type": "markdown",
   "id": "5be37c95",
   "metadata": {},
   "source": [
    "### Fetch the index of the higher probable prediction"
   ]
  },
  {
   "cell_type": "code",
   "execution_count": 43,
   "id": "9796e71b",
   "metadata": {},
   "outputs": [],
   "source": [
    "y_pred = [np.argmax(i) for i in y_pred]"
   ]
  },
  {
   "cell_type": "markdown",
   "id": "330f1e88",
   "metadata": {},
   "source": [
    "### Evaluate the model"
   ]
  },
  {
   "cell_type": "markdown",
   "id": "a018f2c7",
   "metadata": {},
   "source": [
    "### Accuracy score"
   ]
  },
  {
   "cell_type": "code",
   "execution_count": 44,
   "id": "014fbaf7",
   "metadata": {},
   "outputs": [
    {
     "data": {
      "text/plain": [
       "0.85"
      ]
     },
     "execution_count": 44,
     "metadata": {},
     "output_type": "execute_result"
    }
   ],
   "source": [
    "accuracy_score(y_test,y_pred)"
   ]
  },
  {
   "cell_type": "markdown",
   "id": "71207bfa",
   "metadata": {},
   "source": [
    "### Confusion matrix"
   ]
  },
  {
   "cell_type": "code",
   "execution_count": 45,
   "id": "a6ac7901",
   "metadata": {},
   "outputs": [
    {
     "data": {
      "text/plain": [
       "<Axes: >"
      ]
     },
     "execution_count": 45,
     "metadata": {},
     "output_type": "execute_result"
    },
    {
     "data": {
      "image/png": "[encoded data removed]",
      "text/plain": [
       "<Figure size 640x480 with 2 Axes>"
      ]
     },
     "metadata": {},
     "output_type": "display_data"
    }
   ],
   "source": [
    "sns.heatmap(confusion_matrix(y_test,y_pred), annot = True, fmt = 'd')"
   ]
  },
  {
   "cell_type": "markdown",
   "id": "e0d72289",
   "metadata": {},
   "source": [
    "### Classification Report"
   ]
  },
  {
   "cell_type": "code",
   "execution_count": 46,
   "id": "9dacd583",
   "metadata": {},
   "outputs": [
    {
     "name": "stdout",
     "output_type": "stream",
     "text": [
      "              precision    recall  f1-score   support\n",
      "\n",
      "           0       0.93      0.89      0.91        85\n",
      "           1       0.94      0.78      0.85        40\n",
      "           2       0.67      0.91      0.77        35\n",
      "           3       0.84      0.78      0.81        40\n",
      "\n",
      "    accuracy                           0.85       200\n",
      "   macro avg       0.84      0.84      0.83       200\n",
      "weighted avg       0.87      0.85      0.85       200\n",
      "\n"
     ]
    }
   ],
   "source": [
    "print(classification_report(y_test,y_pred))"
   ]
  }
 ],
 "metadata": {
  "kernelspec": {
   "display_name": "Python 3 (ipykernel)",
   "language": "python",
   "name": "python3"
  },
  "language_info": {
   "codemirror_mode": {
    "name": "ipython",
    "version": 3
   },
   "file_extension": ".py",
   "mimetype": "text/x-python",
   "name": "python",
   "nbconvert_exporter": "python",
   "pygments_lexer": "ipython3",
   "version": "3.11.5"
  }
 },
 "nbformat": 4,
 "nbformat_minor": 5
}
