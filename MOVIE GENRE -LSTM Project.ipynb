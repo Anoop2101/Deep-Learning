{
 "cells": [
  {
   "cell_type": "code",
   "execution_count": 1,
   "id": "4382c24a",
   "metadata": {},
   "outputs": [],
   "source": [
    "import numpy as np\n",
    "import pandas as pd\n",
    "import matplotlib.pyplot as plt\n",
    "import seaborn as sns\n",
    "from sklearn.model_selection import train_test_split"
   ]
  },
  {
   "cell_type": "code",
   "execution_count": 2,
   "id": "e01c0fe4",
   "metadata": {},
   "outputs": [],
   "source": [
    " df=pd.read_csv('movie_data.csv')[0:1000]"
   ]
  },
  {
   "cell_type": "code",
   "execution_count": 3,
   "id": "6193dedb",
   "metadata": {},
   "outputs": [
    {
     "data": {
      "text/html": [
       "<div>\n",
       "<style scoped>\n",
       "    .dataframe tbody tr th:only-of-type {\n",
       "        vertical-align: middle;\n",
       "    }\n",
       "\n",
       "    .dataframe tbody tr th {\n",
       "        vertical-align: top;\n",
       "    }\n",
       "\n",
       "    .dataframe thead th {\n",
       "        text-align: right;\n",
       "    }\n",
       "</style>\n",
       "<table border=\"1\" class=\"dataframe\">\n",
       "  <thead>\n",
       "    <tr style=\"text-align: right;\">\n",
       "      <th></th>\n",
       "      <th>review</th>\n",
       "      <th>sentiment</th>\n",
       "    </tr>\n",
       "  </thead>\n",
       "  <tbody>\n",
       "    <tr>\n",
       "      <th>0</th>\n",
       "      <td>This movie is just crap. Even though the direc...</td>\n",
       "      <td>0</td>\n",
       "    </tr>\n",
       "    <tr>\n",
       "      <th>1</th>\n",
       "      <td>Another detailed work on the subject by Dr Dwi...</td>\n",
       "      <td>1</td>\n",
       "    </tr>\n",
       "    <tr>\n",
       "      <th>2</th>\n",
       "      <td>THE CAT O'NINE TAILS (Il Gatto a Nove Code) &lt;b...</td>\n",
       "      <td>0</td>\n",
       "    </tr>\n",
       "    <tr>\n",
       "      <th>3</th>\n",
       "      <td>Like with any movie genre, there are good gang...</td>\n",
       "      <td>0</td>\n",
       "    </tr>\n",
       "    <tr>\n",
       "      <th>4</th>\n",
       "      <td>I watched it with my mom and we were like...&lt;b...</td>\n",
       "      <td>0</td>\n",
       "    </tr>\n",
       "  </tbody>\n",
       "</table>\n",
       "</div>"
      ],
      "text/plain": [
       "                                              review  sentiment\n",
       "0  This movie is just crap. Even though the direc...          0\n",
       "1  Another detailed work on the subject by Dr Dwi...          1\n",
       "2  THE CAT O'NINE TAILS (Il Gatto a Nove Code) <b...          0\n",
       "3  Like with any movie genre, there are good gang...          0\n",
       "4  I watched it with my mom and we were like...<b...          0"
      ]
     },
     "execution_count": 3,
     "metadata": {},
     "output_type": "execute_result"
    }
   ],
   "source": [
    "df.head()"
   ]
  },
  {
   "cell_type": "code",
   "execution_count": 4,
   "id": "9e539194",
   "metadata": {},
   "outputs": [
    {
     "name": "stdout",
     "output_type": "stream",
     "text": [
      "This movie is just crap. Even though the directors claim to be part of that oi-culture, it's still a very, very bad directorial debut. The topic itself is very interesting and I accept the bad acting due to the fact, that they are all amateurs and never acted before, but the worst thing about this film are the dialogs and very unexperienced and naive directing. There's no timing at all in that movie. I felt like the directors were so exited to do that movie (it's their first feature), that they actually never really asked themselves, what story they wanna tell. I met Ben (one of the directors) on several occasions and he's a nice and thoughtful guy, but that doesn't make him a director. I think, that \"American History X\" is full of clichÃ©s, but somehow manages to transport a story. \"Oi!Warning\" is full of clichÃ©s, doesn't tell anything new or provocative and (-that's the sad thing about this movie) it's far from any Oi!-Reality.<br /><br />If you wanna see weird but great German films, watch the movies of Michael Haneke, Christoph Schlingensief, Oskar Roehler, Hans Weingartner or Oliver Hirschbiegel:<br /><br />Benny's Video Funny Games Die UnberÃ¼hrbare Mein Letzter Film Das Experiment Das Weisse Rauschen MuxmÃ¤uschenstill ...<br /><br />*** out of ten, because of the topic and the photography - 0\n",
      "\n",
      "Another detailed work on the subject by Dr Dwivedi takes us back in time to pre-partioned Panjab. Dr Dwivedi chose a difficult subject for his movie debut. He has worked on all meticulous details to bring the story to life. The treatment of the subject is very delicate.<br /><br />Even though we have not been to the region during that time, the sets and costumes look real. Unlike most movies made on partition, this one focuses not on the gory details of violence to attract audience, but on its after-effects. The characters come to life. Priyanshu Chatterjee has given an impressive performance. Manoj Bajpai has acted his heart out showing the plight of a guilt-ridden man. The rest of the cast has done a good job too. - 1\n",
      "\n",
      "THE CAT O'NINE TAILS (Il Gatto a Nove Code) <br /><br />Aspect ratio: 2.35:1 (Cromoscope)<br /><br />Sound format: Mono<br /><br />(35mm and 70mm release prints)<br /><br />A blind ex-journalist (Karl Malden) overhears a blackmail plot outside a genetics research laboratory and later teams up with a fellow reporter (James Franciscus) to investigate a series of murders at the lab, unwittingly placing their own loved ones at the mercy of a psychopathic killer.<br /><br />Rushed into production following the unexpected worldwide success of his directorial debut THE BIRD WITH THE CRYSTAL PLUMAGE (1969), Dario Argento conceived THE CAT O'NINE TAILS as a giallo-thriller in much the same vein as its forerunner, toplining celebrated Hollywood actor Karl Malden - fresh from his appearance in PATTON (1969) - and rising star Franciscus (THE VALLEY OF GWANGI). Sadly, the resulting film - which the ads claimed was 'nine times more suspenseful' than \"Bird\" - is a disappointing follow-up, impeccably photographed and stylishly executed, but too plodding and aimless for general consumption.<br /><br />Malden and Franciscus are eminently watchable in sympathetic roles, and cinematographer Enrico Menczer (THE DEAD ARE ALIVE) uses the wide Cromoscope frame to convey the hi-tech world in which Argento's dark-hearted scenario unfolds, but the subplot involving Euro starlet Catherine Spaak (THE LIBERTINE) as Franciscus' romantic interest amounts to little more than unnecessary padding. Highlights include an unforgettable encounter with the black-gloved assassin in a crowded railway station (edited with sleek assurance by cult movie stalwart Franco Fraticelli), and a nocturnal episode in which Malden and Franciscus seek an important clue inside a mouldering tomb and fall prey to the killer's devious machinations. But despite these flashes of brilliance, the film rambles aimlessly from one scene to the next, simmering gently without ever really coming to the boil. It's no surprise that \"Cat\" failed to emulate the runaway success of \"Bird\" when released in 1971.<br /><br />(English version) - 0\n",
      "\n",
      "Like with any movie genre, there are good gangster movies and there are bad gangster movies. If you asked me to name a good gangster movie, I'd have dozens to choose from. If you asked me to name a bad gangster movie, probably the first one to pop up in my mind is one that still has me in a sort of depression of disappointment about a week since I saw the film for the first and I promise you, the last time. That film is \"The General\", unrelated to the 1926 silent film of the same name. This is a very dry, very slow gangster epic that raises questions not about the story (it's more than easy to follow) but about why the filmmakers chose to make this rather flimsy endeavor.<br /><br />Like \"Goodfellas\" (1990) and \"American Gangster\" (2007)Â—two superior mob moviesÂ—\"The General\" is based on real people and true events. The film revolves around an Irish criminal named Martin Cahill (Brendan Gleeson) who started his long chain of crimes stealing food as a teenager and then moving up to robbing museums and houses as an adult. Meanwhile, the police led by an inspector named Kenny (Jon Voight) try desperately and vigorously to prove just one of his crimes and convict (or kill) him.<br /><br />Perhaps because it's a film in the same category as the marvelous \"Goodfellas\" (1990) and the first two \"Godfather\" films, I was expecting too much from \"The General.\" But that may be going too easy on it. This would have been a bad film had I not seen the aforementioned masterpieces before being swamped by boredom in this oater and its far-too-stretched running time of screaming bad scenes. Let's start knocking the film by just looking at the style in which it is presented. For some reason, director John Boorman and cinematographer Seamus Deasy selected to film this movie in black-and-white while its style and presentation are clearly the elements that belong to a full-fledged color film. Now I have nothing against b/w pictures, not even ones made in modern-day times. \"Schindler's List\" (1993) was more than ninety percent filmed in black-and-white and it's a masterpiece. \"The General\", made just five years after \"Schindler's List\" is not. The cinematography is also far too blown out with high lighting keys that seem very distracting and give the movie a very video-game-like quality that I found simply annoying. The filmmakers were obviously going for a realist's documentary-like style, like \"Schindler's List\" did, but they fail by making it seem too much like a documentary and at the same time, too much like a classic-style motion picture. Performances in the film range from passable to poor. Brendan Gleeson and Jon Voight gave decent enthusiasm for their roles, but it seemed to me at times that even they were getting kind of run down by the awful screenplay from which they were quoting. The sound design is also very primitive, probably in an attempt to give it a 40s crime-noir appeal, but that also fails because again, it's made too much like a contemporary picture and seems vastly out of place.<br /><br />But the worst thing that occurs is that there's not oneÂ—not oneÂ—character in the film that I felt any emotions or opinions for. In fact, for every moment of every scene, the only thought going through my head was \"okayÂ…so what?\" Moments that in a better film might come across as shocking or appalling are just dull and time-consuming here. I did not sympathize or hate the Brendan Gleeson character because the way the Cahill character is written is simply flat and dull. Gleeson just plays the common criminal and does not strike out with the impact the real Martin Cahill obviously did. If a character is killed off (as they always are in gangster films), we feel nothing. No remorse, no relief, no surprise, nothing. We just say \"so what?\" And that's all I did during the entire running time of this very flimsy, very poorly-made crime film. - 0\n",
      "\n",
      "I watched it with my mom and we were like...<br /><br />What the hell? We didn't get it at all. I may have this wrong, but a chair had something to do with the death of this woman's father. That movie was terrible! This is not a movie for those who love a good suspense movie. Bad suspense movie! *shakes cane at movie* I'm never seeing it again. And I'm a big fan of lifetime movies, too! They kinda need to quit trying to make movies outta books. It's driving me crazy!!!<br /><br />And Whit was butt-ugly and yet, she loves him more than Hugh, who was a TINY bit nicer-looking.<br /><br />My rating: 1/10 - 0\n",
      "\n",
      "This movie is probably one of 3 worst movies made in history. I rented this by chance, without reading reviews, and wow, do I regret it. Really has no plot, doesn't really follow the vampire genre. Just plain god awful. Watching this movie will taint your enthusiasm for vampire movies. I felt like the writer/director/producer went on this drug binge and had hallucinations and tried to recreate it on film. Whole time I wanted the movie to end.. but the ending was even more whacked. <br /><br />If this review can save just one person from watching this crap, I felt my time spent on registration and writing this review was well worth it. - 0\n",
      "\n",
      "this movie is quite bad, aggressive, not played well, not directed well, seems low budget, low quality,emotionaly weak and disconnected. after watching earlier comments, went to see it, but if u try to compare it with apocalypse now, PLATOON, or any others, u'r really off the tracks. this movie looks like a 60's old and purely made film with cast of grown neanderthals, not to mention (or actually do), not paying attention to details like changing rounds, low budget fireworks and all sorts of poorly filmed characteristic. is watchable though, if u'd like to see it as an early development of the movies document.. not to go back!!<br /><br />p.s - afterall, the guys are quite alright. - 0\n",
      "\n",
      "And a perfect film to watch during the holiday season as the winter/Xmas atmosphere that Burton creates for Gotham City is way cool. It's weird that Warner decided to release this as a summer film. It doesn't fit.<br /><br />But what's even weirder, when you consider the content of this film, is that it was aimed at families. An upper-class family throws their mutant baby down the sewer, a socio phobic billionaire dresses up in leather as a flying rodent, a lonely secretary dresses up in leather as a feline and a freak runs for political office. And S&M and bondage are presented in a very perverted way. But Burton got away with it. His visual style in this film is at it's best.<br /><br />This and Batman: Dead End are the only true live-action incarnations of the comic-book character. True, the animated series was the closest to the source material, but compared with Batman Forever and the un-nameable one after that, Batman Returns is the best of the four.<br /><br />Darker and more violent than the first movie, the sense of Gothic pathos reaches a new high. I was quite keen on Michael Keaton as Bruce Wayne (don't even get me started on George Clooney!), he displayed the right balance of weirdo loner and cool crime fighter. Michelle Pfieffer is great as Catwoman (much sexier and more 'realisticly' cat-like), she wears that leather outfit better than Halle Berry. And Danny DeVito was so convincing as the Penguin that his scenes became disturbing to watch. And Christopher Walken is brilliant as the spooky Max Shreck (if you think you recognise Chip Shrek it's none other than a very young Leatherface/Butterfinger).<br /><br />Danny Elfman's score is also even better than it was first time round. His powerful and engaging themes are way better than the dross that followed in the later 2 Schumacher movies. This movie is the Batman phenomenon at its Zenith. Forget the following sequels and stick to the animated series after this. Let's hope that Christopher Nolan and Christian Bale can bring some integrity back to the live action Batman with their movie next year.<br /><br />This DVD was one of the first ever DVDs released by Warner (almost 7 years ago!!!) and as a result there are NO features and the case is a snapper. Pick it up cheap like I did and hope for an SE in the future. - 1\n",
      "\n",
      "I like Noel Coward, the wit. I like Noel Coward, the play write. I like Noel Coward, the composer and singer, but I loathe Noel Coward the actor.<br /><br />To me this is a man who should have stayed firmly behind the scenes, writing his plays and composing his music and making his profound and hilarious observations. He should never have been allowed in front of a camera.<br /><br />Make no mistake, he is one of the top outstanding talents of the 20th century but the man just couldn't act, and his voice...with it's rolling R's and it's overly round tonal quality...well it could quite easily grate cheese in my opinion.<br /><br />This is one of my least favourite offerings from Coward, as he unconvincingly portrays a psychiatrist embarking on an affair with a much younger woman, made worse by the fact that the much younger woman is an old school friend of his much younger wife.<br /><br />Celia Johnson is as much a joy to watch as ever as Cowards wronged wife. It is her performance that saves this film from abject dullness. I suppose her own little fling in Coward's Brief Encounter four years previously qualified her for this role as she must have raised a few eyebrows playing a such a promiscuous woman and this gave her the chance to win back a few fans and gain some lost sympathy.<br /><br />She was such a wonderful actress and you can see why Noel Coward used her so much in many of his productions.<br /><br />However the rest of the film is drab, badly acted, predictable and on the whole boring to almost arse-clenching level.<br /><br />If its Noel Coward you want then take the time to watch In Which We Serve, Blythe Spirit or This Happy Breed instead. Three Noel Coward treasures. With lovely films like these I suppose we can forgive him for this turkey.<br /><br />I have given this four stars purely for the addition of Miss Johnson, but on the whole I'd avoid this one like the plague. - 0\n",
      "\n",
      "\"The Days\" is a typical family drama with a little catch - you must relate to the character's emotions in every way possible in order for you to truly appreciate the show.<br /><br />[Possible Spoilers For Those Who Are Unfamiliar With the Show]<br /><br />The story, obviously, for all the people who has watched the show, is the world of Cooper Day, the middle child of the family. He records his days with his family and hopes to become a rich and famous writer one day because of his observations. His family includes a mother, a father, a perfect sister, and a genius-little-brother. The first episode, which is going to sound a bit stupid since John Scott Shepard has created this situation - both the sister and mother gets pregnant. That's the first situation the writer hits. Then the father quits his job at the law firm. The youngest son gets a panic attack. The middle child gets in a fight with the sister's boyfriend. This is all in a day's work.<br /><br />[/Spoilers]<br /><br />I admire this show. I don't know. It's a bit crappy but I like it. First I thought the camera-work was a ripoff but then I got used it and started to like it. I liked the quiet conversations under a dark light. I liked the intimate feeling of the show. I liked the low-budget style. I liked the acting. I admire the story. Then I find myself wanting a second season of The Days. I slowly became a fan of it as the 6-episode airing on ABC came to an end. It's a really good show and it's nothing like The OC. The two have nothing in common. So I hope fans will stop comparing them.<br /><br />And if you can relate to either Abby, Jack, Natalie, Cooper or even Nate, you'll like this show. A lot. - 1\n",
      "\n"
     ]
    }
   ],
   "source": [
    "for i in range(10):\n",
    "    print(df['review'][i],'-', df['sentiment'][i])\n",
    "    print()"
   ]
  },
  {
   "cell_type": "code",
   "execution_count": 5,
   "id": "b3f19c46",
   "metadata": {},
   "outputs": [
    {
     "name": "stdout",
     "output_type": "stream",
     "text": [
      "<class 'pandas.core.frame.DataFrame'>\n",
      "RangeIndex: 1000 entries, 0 to 999\n",
      "Data columns (total 2 columns):\n",
      " #   Column     Non-Null Count  Dtype \n",
      "---  ------     --------------  ----- \n",
      " 0   review     1000 non-null   object\n",
      " 1   sentiment  1000 non-null   int64 \n",
      "dtypes: int64(1), object(1)\n",
      "memory usage: 15.8+ KB\n"
     ]
    }
   ],
   "source": [
    "df.info()"
   ]
  },
  {
   "cell_type": "code",
   "execution_count": 6,
   "id": "58b1eb9d",
   "metadata": {},
   "outputs": [
    {
     "data": {
      "text/plain": [
       "review       0\n",
       "sentiment    0\n",
       "dtype: int64"
      ]
     },
     "execution_count": 6,
     "metadata": {},
     "output_type": "execute_result"
    }
   ],
   "source": [
    "df.isna().sum()"
   ]
  },
  {
   "cell_type": "code",
   "execution_count": 7,
   "id": "8f24b6c6",
   "metadata": {},
   "outputs": [
    {
     "data": {
      "text/html": [
       "<div>\n",
       "<style scoped>\n",
       "    .dataframe tbody tr th:only-of-type {\n",
       "        vertical-align: middle;\n",
       "    }\n",
       "\n",
       "    .dataframe tbody tr th {\n",
       "        vertical-align: top;\n",
       "    }\n",
       "\n",
       "    .dataframe thead th {\n",
       "        text-align: right;\n",
       "    }\n",
       "</style>\n",
       "<table border=\"1\" class=\"dataframe\">\n",
       "  <thead>\n",
       "    <tr style=\"text-align: right;\">\n",
       "      <th></th>\n",
       "      <th>sentiment</th>\n",
       "    </tr>\n",
       "  </thead>\n",
       "  <tbody>\n",
       "    <tr>\n",
       "      <th>count</th>\n",
       "      <td>1000.000000</td>\n",
       "    </tr>\n",
       "    <tr>\n",
       "      <th>mean</th>\n",
       "      <td>0.501000</td>\n",
       "    </tr>\n",
       "    <tr>\n",
       "      <th>std</th>\n",
       "      <td>0.500249</td>\n",
       "    </tr>\n",
       "    <tr>\n",
       "      <th>min</th>\n",
       "      <td>0.000000</td>\n",
       "    </tr>\n",
       "    <tr>\n",
       "      <th>25%</th>\n",
       "      <td>0.000000</td>\n",
       "    </tr>\n",
       "    <tr>\n",
       "      <th>50%</th>\n",
       "      <td>1.000000</td>\n",
       "    </tr>\n",
       "    <tr>\n",
       "      <th>75%</th>\n",
       "      <td>1.000000</td>\n",
       "    </tr>\n",
       "    <tr>\n",
       "      <th>max</th>\n",
       "      <td>1.000000</td>\n",
       "    </tr>\n",
       "  </tbody>\n",
       "</table>\n",
       "</div>"
      ],
      "text/plain": [
       "         sentiment\n",
       "count  1000.000000\n",
       "mean      0.501000\n",
       "std       0.500249\n",
       "min       0.000000\n",
       "25%       0.000000\n",
       "50%       1.000000\n",
       "75%       1.000000\n",
       "max       1.000000"
      ]
     },
     "execution_count": 7,
     "metadata": {},
     "output_type": "execute_result"
    }
   ],
   "source": [
    "df.describe()"
   ]
  },
  {
   "cell_type": "code",
   "execution_count": 8,
   "id": "517d44d1",
   "metadata": {},
   "outputs": [
    {
     "data": {
      "text/plain": [
       "0"
      ]
     },
     "execution_count": 8,
     "metadata": {},
     "output_type": "execute_result"
    }
   ],
   "source": [
    "df.duplicated().sum()"
   ]
  },
  {
   "cell_type": "code",
   "execution_count": 9,
   "id": "8814345b",
   "metadata": {},
   "outputs": [],
   "source": [
    "df.drop_duplicates(inplace= True, keep = 'first')"
   ]
  },
  {
   "cell_type": "code",
   "execution_count": 10,
   "id": "27dbbd2d",
   "metadata": {},
   "outputs": [
    {
     "data": {
      "text/plain": [
       "0"
      ]
     },
     "execution_count": 10,
     "metadata": {},
     "output_type": "execute_result"
    }
   ],
   "source": [
    "df.duplicated().sum()"
   ]
  },
  {
   "cell_type": "code",
   "execution_count": 11,
   "id": "8177fe4b",
   "metadata": {},
   "outputs": [
    {
     "data": {
      "image/png": "[encoded data removed]",
      "text/plain": [
       "<Figure size 500x300 with 1 Axes>"
      ]
     },
     "metadata": {},
     "output_type": "display_data"
    }
   ],
   "source": [
    "plt.figure(figsize = (5,3))\n",
    "sns.countplot(y = df['sentiment'])\n",
    "plt.show()"
   ]
  },
  {
   "cell_type": "code",
   "execution_count": 12,
   "id": "7451e6f1",
   "metadata": {},
   "outputs": [],
   "source": [
    "import re\n",
    "from nltk.corpus import stopwords\n",
    "from nltk.stem import WordNetLemmatizer"
   ]
  },
  {
   "cell_type": "code",
   "execution_count": 13,
   "id": "cfd9838f",
   "metadata": {},
   "outputs": [],
   "source": [
    "def preprocess(sentence):\n",
    "    #removes all the special characters and split the sentence at spaces\n",
    "    text = re.sub(r\"[^a-zA-Z0-9]\",\" \",sentence).split()\n",
    "    \n",
    "    # converts words to lowercase and removes any stopwords\n",
    "    words = [x.lower() for x in text if x not in stopwords.words('english')]\n",
    "    \n",
    "    # Lemmatize the words\n",
    "    lemma = WordNetLemmatizer()\n",
    "    word = [lemma.lemmatize(word,'v') for word in words ]\n",
    "    \n",
    "    # convert the list of words back into a sentence\n",
    "    word = ' '.join(word)\n",
    "    return word"
   ]
  },
  {
   "cell_type": "code",
   "execution_count": 14,
   "id": "c16a7722",
   "metadata": {},
   "outputs": [],
   "source": [
    "df['review'] = df['review'].apply(preprocess)"
   ]
  },
  {
   "cell_type": "code",
   "execution_count": 15,
   "id": "6f2d524c",
   "metadata": {},
   "outputs": [
    {
     "name": "stdout",
     "output_type": "stream",
     "text": [
      "this movie crap even though directors claim part oi culture still bad directorial debut the topic interest i accept bad act due fact amateurs never act worst thing film dialogs unexperienced naive direct there time movie i felt like directors exit movie first feature actually never really ask story wanna tell i meet ben one directors several occasion nice thoughtful guy make director i think american history x full clich somehow manage transport story oi warn full clich tell anything new provocative sad thing movie far oi reality br br if wanna see weird great german film watch movies michael haneke christoph schlingensief oskar roehler hans weingartner oliver hirschbiegel br br benny video funny game die unber hrbare mein letzter film das experiment das weisse rauschen muxm uschenstill br br ten topic photography\n",
      "\n",
      "another detail work subject dr dwivedi take us back time pre partioned panjab dr dwivedi choose difficult subject movie debut he work meticulous detail bring story life the treatment subject delicate br br even though region time set costume look real unlike movies make partition one focus gory detail violence attract audience effect the character come life priyanshu chatterjee give impressive performance manoj bajpai act heart show plight guilt ride man the rest cast do good job\n",
      "\n",
      "the cat o nine tail il gatto nove code br br aspect ratio 2 35 1 cromoscope br br sound format mono br br 35mm 70mm release print br br a blind ex journalist karl malden overhear blackmail plot outside genetics research laboratory later team fellow reporter jam franciscus investigate series murder lab unwittingly place love ones mercy psychopathic killer br br rush production follow unexpected worldwide success directorial debut the bird with the crystal plumage 1969 dario argento conceive the cat o nine tail giallo thriller much vein forerunner toplining celebrate hollywood actor karl malden fresh appearance patton 1969 rise star franciscus the valley of gwangi sadly result film ads claim nine time suspenseful bird disappoint follow impeccably photograph stylishly execute plod aimless general consumption br br malden franciscus eminently watchable sympathetic roles cinematographer enrico menczer the dead be alive use wide cromoscope frame convey hi tech world argento dark hearted scenario unfold subplot involve euro starlet catherine spaak the libertine franciscus romantic interest amount little unnecessary pad highlight include unforgettable encounter black gloved assassin crowd railway station edit sleek assurance cult movie stalwart franco fraticelli nocturnal episode malden franciscus seek important clue inside moulder tomb fall prey killer devious machinations but despite flash brilliance film ramble aimlessly one scene next simmer gently without ever really come boil it surprise cat fail emulate runaway success bird release 1971 br br english version\n",
      "\n",
      "like movie genre good gangster movies bad gangster movies if ask name good gangster movie i dozens choose if ask name bad gangster movie probably first one pop mind one still sort depression disappointment week since i saw film first i promise last time that film the general unrelated 1926 silent film name this dry slow gangster epic raise question story easy follow filmmakers choose make rather flimsy endeavor br br like goodfellas 1990 american gangster 2007 two superior mob movies the general base real people true events the film revolve around irish criminal name martin cahill brendan gleeson start long chain crimes steal food teenager move rob museums house adult meanwhile police lead inspector name kenny jon voight try desperately vigorously prove one crimes convict kill br br perhaps film category marvelous goodfellas 1990 first two godfather film i expect much the general but may go easy this would bad film i see aforementioned masterpieces swamp boredom oater far stretch run time scream bad scenes let start knock film look style present for reason director john boorman cinematographer seamus deasy select film movie black white style presentation clearly elements belong full fledge color film now i nothing b w picture even ones make modern day time schindler list 1993 ninety percent film black white masterpiece the general make five years schindler list the cinematography also far blow high light key seem distract give movie video game like quality i find simply annoy the filmmakers obviously go realist documentary like style like schindler list fail make seem much like documentary time much like classic style motion picture performances film range passable poor brendan gleeson jon voight give decent enthusiasm roles seem time even get kind run awful screenplay quote the sound design also primitive probably attempt give 40s crime noir appeal also fail make much like contemporary picture seem vastly place br br but worst thing occur one one character film i felt emotions opinions in fact every moment every scene think go head okay moments better film might come across shock appal dull time consume i sympathize hate brendan gleeson character way cahill character write simply flat dull gleeson play common criminal strike impact real martin cahill obviously if character kill always gangster film feel nothing no remorse relief surprise nothing we say and i entire run time flimsy poorly make crime film\n",
      "\n",
      "i watch mom like br br what hell we get i may wrong chair something death woman father that movie terrible this movie love good suspense movie bad suspense movie shake cane movie i never see and i big fan lifetime movies they kinda need quit try make movies outta book it drive crazy br br and whit butt ugly yet love hugh tiny bite nicer look br br my rat 1 10\n",
      "\n",
      "this movie probably one 3 worst movies make history i rent chance without read review wow i regret really plot really follow vampire genre just plain god awful watch movie taint enthusiasm vampire movies i felt like writer director producer go drug binge hallucinations try recreate film whole time i want movie end end even whack br br if review save one person watch crap i felt time spend registration write review well worth\n",
      "\n",
      "movie quite bad aggressive play well direct well seem low budget low quality emotionaly weak disconnect watch earlier comment go see u try compare apocalypse platoon others u r really track movie look like 60 old purely make film cast grow neanderthals mention actually pay attention detail like change round low budget fireworks sort poorly film characteristic watchable though u like see early development movies document go back br br p afterall guy quite alright\n",
      "\n",
      "and perfect film watch holiday season winter xmas atmosphere burton create gotham city way cool it weird warner decide release summer film it fit br br but even weirder consider content film aim families an upper class family throw mutant baby sewer socio phobic billionaire dress leather fly rodent lonely secretary dress leather feline freak run political office and s m bondage present pervert way but burton get away his visual style film best br br this batman dead end true live action incarnations comic book character true animate series closest source material compare batman forever un nameable one batman return best four br br darker violent first movie sense gothic pathos reach new high i quite keen michael keaton bruce wayne even get start george clooney display right balance weirdo loner cool crime fighter michelle pfieffer great catwoman much sexier realisticly cat like wear leather outfit better halle berry and danny devito convince penguin scenes become disturb watch and christopher walken brilliant spooky max shreck think recognise chip shrek none young leatherface butterfinger br br danny elfman score also even better first time round his powerful engage theme way better dross follow later 2 schumacher movies this movie batman phenomenon zenith forget follow sequels stick animate series let hope christopher nolan christian bale bring integrity back live action batman movie next year br br this dvd one first ever dvds release warner almost 7 years ago result no feature case snapper pick cheap like i hope se future\n",
      "\n",
      "i like noel coward wit i like noel coward play write i like noel coward composer singer i loathe noel coward actor br br to man stay firmly behind scenes write play compose music make profound hilarious observations he never allow front camera br br make mistake one top outstanding talents 20th century man act voice roll r overly round tonal quality well could quite easily grate cheese opinion br br this one least favourite offer coward unconvincingly portray psychiatrist embark affair much younger woman make worse fact much younger woman old school friend much younger wife br br celia johnson much joy watch ever cowards wrong wife it performance save film abject dullness i suppose little fling coward brief encounter four years previously qualify role must raise eyebrows play promiscuous woman give chance win back fan gain lose sympathy br br she wonderful actress see noel coward use much many productions br br however rest film drab badly act predictable whole bore almost arse clench level br br if noel coward want take time watch in which we serve blythe spirit this happy breed instead three noel coward treasure with lovely film like i suppose forgive turkey br br i give four star purely addition miss johnson whole i avoid one like plague\n",
      "\n",
      "the days typical family drama little catch must relate character emotions every way possible order truly appreciate show br br possible spoilers for those who be unfamiliar with show br br the story obviously people watch show world cooper day middle child family he record days family hop become rich famous writer one day observations his family include mother father perfect sister genius little brother the first episode go sound bite stupid since john scott shepard create situation sister mother get pregnant that first situation writer hit then father quit job law firm the youngest son get panic attack the middle child get fight sister boyfriend this day work br br spoilers br br i admire show i know it bite crappy i like first i think camera work ripoff i get use start like i like quiet conversations dark light i like intimate feel show i like low budget style i like act i admire story then i find want second season the days i slowly become fan 6 episode air abc come end it really good show nothing like the oc the two nothing common so i hope fan stop compare br br and relate either abby jack natalie cooper even nate like show a lot\n",
      "\n"
     ]
    }
   ],
   "source": [
    "for i in range(10):\n",
    "    print(df['review'][i])\n",
    "    print()"
   ]
  },
  {
   "cell_type": "code",
   "execution_count": 16,
   "id": "999a3eec",
   "metadata": {},
   "outputs": [],
   "source": [
    "X = df['review']\n",
    "y = df['sentiment']"
   ]
  },
  {
   "cell_type": "code",
   "execution_count": 17,
   "id": "9a3d5930",
   "metadata": {},
   "outputs": [],
   "source": [
    "from sklearn.preprocessing import LabelBinarizer"
   ]
  },
  {
   "cell_type": "code",
   "execution_count": 18,
   "id": "0e2c1a9a",
   "metadata": {},
   "outputs": [],
   "source": [
    "encoder = LabelBinarizer()\n",
    "y = encoder.fit_transform(y)"
   ]
  },
  {
   "cell_type": "code",
   "execution_count": 19,
   "id": "797fe178",
   "metadata": {},
   "outputs": [
    {
     "data": {
      "text/plain": [
       "(1000, 1)"
      ]
     },
     "execution_count": 19,
     "metadata": {},
     "output_type": "execute_result"
    }
   ],
   "source": [
    "y.shape"
   ]
  },
  {
   "cell_type": "code",
   "execution_count": 20,
   "id": "c54dd697",
   "metadata": {},
   "outputs": [
    {
     "data": {
      "text/plain": [
       "(1000,)"
      ]
     },
     "execution_count": 20,
     "metadata": {},
     "output_type": "execute_result"
    }
   ],
   "source": [
    "X.shape"
   ]
  },
  {
   "cell_type": "code",
   "execution_count": 21,
   "id": "57428c6b",
   "metadata": {},
   "outputs": [],
   "source": [
    "X_train, X_test, y_train, y_test = train_test_split(X,y, test_size = 0.2)"
   ]
  },
  {
   "cell_type": "code",
   "execution_count": 22,
   "id": "e7263f51",
   "metadata": {},
   "outputs": [],
   "source": [
    "from tensorflow.keras.preprocessing.text import Tokenizer\n",
    "from keras.preprocessing.sequence import pad_sequences"
   ]
  },
  {
   "cell_type": "code",
   "execution_count": 23,
   "id": "32632b47",
   "metadata": {},
   "outputs": [],
   "source": [
    "tokenizer = Tokenizer(num_words=128)"
   ]
  },
  {
   "cell_type": "code",
   "execution_count": 24,
   "id": "f289f3a5",
   "metadata": {},
   "outputs": [],
   "source": [
    "tokenizer.fit_on_texts(X)"
   ]
  },
  {
   "cell_type": "code",
   "execution_count": 25,
   "id": "b5f4715f",
   "metadata": {},
   "outputs": [
    {
     "data": {
      "text/plain": [
       "{'br': 1,\n",
       " 'i': 2,\n",
       " 'film': 3,\n",
       " 'the': 4,\n",
       " 'movie': 5,\n",
       " 'one': 6,\n",
       " 'make': 7,\n",
       " 'like': 8,\n",
       " 'see': 9,\n",
       " 'it': 10,\n",
       " 'get': 11,\n",
       " 'time': 12,\n",
       " 'this': 13,\n",
       " 'good': 14,\n",
       " 'watch': 15,\n",
       " 'character': 16,\n",
       " 'go': 17,\n",
       " 'think': 18,\n",
       " 'even': 19,\n",
       " 'story': 20,\n",
       " 'really': 21,\n",
       " 'would': 22,\n",
       " 'show': 23,\n",
       " 'love': 24,\n",
       " 'also': 25,\n",
       " 'well': 26,\n",
       " 'end': 27,\n",
       " 'people': 28,\n",
       " 'look': 29,\n",
       " 'know': 30,\n",
       " 'much': 31,\n",
       " 'first': 32,\n",
       " 'give': 33,\n",
       " 'say': 34,\n",
       " 'act': 35,\n",
       " 'play': 36,\n",
       " 'bad': 37,\n",
       " 'way': 38,\n",
       " 'great': 39,\n",
       " 'come': 40,\n",
       " 'take': 41,\n",
       " 'find': 42,\n",
       " 'could': 43,\n",
       " 'plot': 44,\n",
       " 'want': 45,\n",
       " 'seem': 46,\n",
       " 'life': 47,\n",
       " 'movies': 48,\n",
       " 'work': 49,\n",
       " 'never': 50,\n",
       " 'but': 51,\n",
       " 'two': 52,\n",
       " 'best': 53,\n",
       " 'a': 54,\n",
       " 'there': 55,\n",
       " 'many': 56,\n",
       " 'try': 57,\n",
       " 'and': 58,\n",
       " 'ever': 59,\n",
       " 'better': 60,\n",
       " 'in': 61,\n",
       " 'little': 62,\n",
       " 'scene': 63,\n",
       " 'if': 64,\n",
       " 'use': 65,\n",
       " 'real': 66,\n",
       " 'man': 67,\n",
       " 'star': 68,\n",
       " 'funny': 69,\n",
       " 'still': 70,\n",
       " 'part': 71,\n",
       " 'interest': 72,\n",
       " 'actually': 73,\n",
       " 'feel': 74,\n",
       " 'back': 75,\n",
       " 'he': 76,\n",
       " 'years': 77,\n",
       " 'something': 78,\n",
       " '10': 79,\n",
       " 'tell': 80,\n",
       " 'another': 81,\n",
       " 'point': 82,\n",
       " 'though': 83,\n",
       " 'leave': 84,\n",
       " 'thing': 85,\n",
       " 'lot': 86,\n",
       " 'guy': 87,\n",
       " 'every': 88,\n",
       " 'start': 89,\n",
       " 'scenes': 90,\n",
       " 'director': 91,\n",
       " 'write': 92,\n",
       " 'turn': 93,\n",
       " 'actors': 94,\n",
       " 'become': 95,\n",
       " 'old': 96,\n",
       " 'new': 97,\n",
       " 'cast': 98,\n",
       " 'live': 99,\n",
       " 'do': 100,\n",
       " 'you': 101,\n",
       " 'quite': 102,\n",
       " 'almost': 103,\n",
       " 'enough': 104,\n",
       " 'nothing': 105,\n",
       " 'bite': 106,\n",
       " 'pretty': 107,\n",
       " 'young': 108,\n",
       " 'world': 109,\n",
       " 'music': 110,\n",
       " 'must': 111,\n",
       " 'family': 112,\n",
       " 'us': 113,\n",
       " 'comedy': 114,\n",
       " 'series': 115,\n",
       " 'long': 116,\n",
       " 'happen': 117,\n",
       " 'keep': 118,\n",
       " 'things': 119,\n",
       " 'what': 120,\n",
       " 'need': 121,\n",
       " 'put': 122,\n",
       " 'kid': 123,\n",
       " 'kill': 124,\n",
       " 'action': 125,\n",
       " 'horror': 126,\n",
       " 'set': 127,\n",
       " 'whole': 128,\n",
       " 'role': 129,\n",
       " 'always': 130,\n",
       " 'around': 131,\n",
       " 'right': 132,\n",
       " 'as': 133,\n",
       " 'shoot': 134,\n",
       " 'call': 135,\n",
       " 'worst': 136,\n",
       " 'may': 137,\n",
       " 'begin': 138,\n",
       " 'fact': 139,\n",
       " 'without': 140,\n",
       " 'big': 141,\n",
       " 'script': 142,\n",
       " 'name': 143,\n",
       " 'last': 144,\n",
       " 'fan': 145,\n",
       " 'laugh': 146,\n",
       " 'saw': 147,\n",
       " 'least': 148,\n",
       " 'girl': 149,\n",
       " 'line': 150,\n",
       " 'believe': 151,\n",
       " 'however': 152,\n",
       " 'effect': 153,\n",
       " 'might': 154,\n",
       " 'so': 155,\n",
       " 'place': 156,\n",
       " 'lead': 157,\n",
       " 'original': 158,\n",
       " 'yet': 159,\n",
       " '2': 160,\n",
       " 'enjoy': 161,\n",
       " 'screen': 162,\n",
       " 'not': 163,\n",
       " 'run': 164,\n",
       " 'that': 165,\n",
       " 'they': 166,\n",
       " 'fun': 167,\n",
       " 'mean': 168,\n",
       " 'far': 169,\n",
       " 'away': 170,\n",
       " 'since': 171,\n",
       " 'day': 172,\n",
       " 'anything': 173,\n",
       " 'true': 174,\n",
       " 'when': 175,\n",
       " 'especially': 176,\n",
       " 'together': 177,\n",
       " 'job': 178,\n",
       " 'follow': 179,\n",
       " 'mind': 180,\n",
       " 'kind': 181,\n",
       " 'let': 182,\n",
       " 'help': 183,\n",
       " 'probably': 184,\n",
       " 'high': 185,\n",
       " 'expect': 186,\n",
       " 'reason': 187,\n",
       " 'die': 188,\n",
       " 'later': 189,\n",
       " 'hard': 190,\n",
       " 'understand': 191,\n",
       " 'dead': 192,\n",
       " 'be': 193,\n",
       " 'read': 194,\n",
       " 'change': 195,\n",
       " 'sense': 196,\n",
       " 'sure': 197,\n",
       " 'book': 198,\n",
       " 'worth': 199,\n",
       " 'tv': 200,\n",
       " 'american': 201,\n",
       " 'performance': 202,\n",
       " 'everything': 203,\n",
       " 'actor': 204,\n",
       " 'classic': 205,\n",
       " 'dvd': 206,\n",
       " 'war': 207,\n",
       " 'surprise': 208,\n",
       " 'rather': 209,\n",
       " 'year': 210,\n",
       " 'minutes': 211,\n",
       " 'father': 212,\n",
       " 'bore': 213,\n",
       " 'someone': 214,\n",
       " 'anyone': 215,\n",
       " 'short': 216,\n",
       " 'open': 217,\n",
       " 'we': 218,\n",
       " 'all': 219,\n",
       " 'sound': 220,\n",
       " 'fall': 221,\n",
       " 'john': 222,\n",
       " 'head': 223,\n",
       " 'night': 224,\n",
       " 'feature': 225,\n",
       " 'release': 226,\n",
       " 'black': 227,\n",
       " 'poor': 228,\n",
       " 'moments': 229,\n",
       " 'wife': 230,\n",
       " 'she': 231,\n",
       " 'different': 232,\n",
       " 'course': 233,\n",
       " 'person': 234,\n",
       " 'top': 235,\n",
       " 'women': 236,\n",
       " 'face': 237,\n",
       " 'bring': 238,\n",
       " 'waste': 239,\n",
       " 'include': 240,\n",
       " 'my': 241,\n",
       " '3': 242,\n",
       " 'although': 243,\n",
       " 'idea': 244,\n",
       " 'main': 245,\n",
       " 'maybe': 246,\n",
       " 'truly': 247,\n",
       " 'view': 248,\n",
       " 'move': 249,\n",
       " 'three': 250,\n",
       " 'money': 251,\n",
       " 'fight': 252,\n",
       " 'special': 253,\n",
       " 'at': 254,\n",
       " 'murder': 255,\n",
       " 'woman': 256,\n",
       " 'felt': 257,\n",
       " 'for': 258,\n",
       " 'lack': 259,\n",
       " 'hear': 260,\n",
       " 'direct': 261,\n",
       " 'meet': 262,\n",
       " 'death': 263,\n",
       " 'behind': 264,\n",
       " 'audience': 265,\n",
       " 'either': 266,\n",
       " 'eye': 267,\n",
       " 'hand': 268,\n",
       " 'title': 269,\n",
       " 'to': 270,\n",
       " 'camera': 271,\n",
       " 'everyone': 272,\n",
       " 'simply': 273,\n",
       " 'attempt': 274,\n",
       " 'suppose': 275,\n",
       " 'lose': 276,\n",
       " 'excellent': 277,\n",
       " 'men': 278,\n",
       " 'couple': 279,\n",
       " 'learn': 280,\n",
       " 'friends': 281,\n",
       " '1': 282,\n",
       " 'stupid': 283,\n",
       " 'several': 284,\n",
       " 'nice': 285,\n",
       " 'rest': 286,\n",
       " 'production': 287,\n",
       " 'hollywood': 288,\n",
       " 'next': 289,\n",
       " 'house': 290,\n",
       " 'review': 291,\n",
       " 'budget': 292,\n",
       " 'perfect': 293,\n",
       " 'beautiful': 294,\n",
       " 'sit': 295,\n",
       " 'full': 296,\n",
       " 'of': 297,\n",
       " 'terrible': 298,\n",
       " 'instead': 299,\n",
       " 'word': 300,\n",
       " 'less': 301,\n",
       " 'finally': 302,\n",
       " 'sequence': 303,\n",
       " 'episode': 304,\n",
       " 'awful': 305,\n",
       " 'school': 306,\n",
       " 'mother': 307,\n",
       " 'second': 308,\n",
       " 'piece': 309,\n",
       " 'force': 310,\n",
       " 'low': 311,\n",
       " 'close': 312,\n",
       " 'talk': 313,\n",
       " 'small': 314,\n",
       " 'side': 315,\n",
       " 'base': 316,\n",
       " 'white': 317,\n",
       " 'picture': 318,\n",
       " 'god': 319,\n",
       " 'save': 320,\n",
       " 'entertain': 321,\n",
       " 'recommend': 322,\n",
       " 'rat': 323,\n",
       " 'decide': 324,\n",
       " 'completely': 325,\n",
       " 'definitely': 326,\n",
       " 'care': 327,\n",
       " 'deal': 328,\n",
       " 'joke': 329,\n",
       " 'version': 330,\n",
       " 'perhaps': 331,\n",
       " 'light': 332,\n",
       " 'hit': 333,\n",
       " 'add': 334,\n",
       " 'along': 335,\n",
       " 'boy': 336,\n",
       " 'video': 337,\n",
       " 'style': 338,\n",
       " 'forget': 339,\n",
       " 'stop': 340,\n",
       " 'stand': 341,\n",
       " 'remember': 342,\n",
       " 'human': 343,\n",
       " 'consider': 344,\n",
       " 'miss': 345,\n",
       " 'home': 346,\n",
       " 'appear': 347,\n",
       " 'spend': 348,\n",
       " 'season': 349,\n",
       " 'throw': 350,\n",
       " 'wonderful': 351,\n",
       " 'age': 352,\n",
       " 'amaze': 353,\n",
       " 'children': 354,\n",
       " 'wrong': 355,\n",
       " 'hope': 356,\n",
       " 'portray': 357,\n",
       " 'matter': 358,\n",
       " 'support': 359,\n",
       " 'unfortunately': 360,\n",
       " 'no': 361,\n",
       " 'days': 362,\n",
       " 'break': 363,\n",
       " '5': 364,\n",
       " 'flick': 365,\n",
       " '4': 366,\n",
       " 'performances': 367,\n",
       " 'early': 368,\n",
       " 'dialogue': 369,\n",
       " 'how': 370,\n",
       " 'oh': 371,\n",
       " 'sex': 372,\n",
       " 'stuff': 373,\n",
       " 'today': 374,\n",
       " 'else': 375,\n",
       " 'half': 376,\n",
       " 'manage': 377,\n",
       " 'entire': 378,\n",
       " 'comment': 379,\n",
       " 'others': 380,\n",
       " 'drama': 381,\n",
       " 'art': 382,\n",
       " 'wait': 383,\n",
       " 'b': 384,\n",
       " 'obviously': 385,\n",
       " 'documentary': 386,\n",
       " 'create': 387,\n",
       " 'absolutely': 388,\n",
       " 'example': 389,\n",
       " 'car': 390,\n",
       " 'dark': 391,\n",
       " 'involve': 392,\n",
       " 'quality': 393,\n",
       " 'his': 394,\n",
       " 'worse': 395,\n",
       " 'friend': 396,\n",
       " 'wonder': 397,\n",
       " 'why': 398,\n",
       " 'ask': 399,\n",
       " 'present': 400,\n",
       " 'drive': 401,\n",
       " 'experience': 402,\n",
       " 'after': 403,\n",
       " 'obvious': 404,\n",
       " 'throughout': 405,\n",
       " 'evil': 406,\n",
       " 'despite': 407,\n",
       " 'pick': 408,\n",
       " 'catch': 409,\n",
       " 'son': 410,\n",
       " 'except': 411,\n",
       " 'image': 412,\n",
       " 'pay': 413,\n",
       " 'return': 414,\n",
       " 'buy': 415,\n",
       " 'direction': 416,\n",
       " 'number': 417,\n",
       " 'state': 418,\n",
       " 'already': 419,\n",
       " 'etc': 420,\n",
       " 'crap': 421,\n",
       " 'genre': 422,\n",
       " 'stay': 423,\n",
       " 'hilarious': 424,\n",
       " 'then': 425,\n",
       " 'past': 426,\n",
       " 'credit': 427,\n",
       " 'cut': 428,\n",
       " 'hours': 429,\n",
       " 'sad': 430,\n",
       " 'theme': 431,\n",
       " 'possible': 432,\n",
       " 'while': 433,\n",
       " 'touch': 434,\n",
       " 'body': 435,\n",
       " 'some': 436,\n",
       " 'steal': 437,\n",
       " 'police': 438,\n",
       " 'voice': 439,\n",
       " 'room': 440,\n",
       " 'certainly': 441,\n",
       " 'deserve': 442,\n",
       " 'humor': 443,\n",
       " 'yes': 444,\n",
       " 'totally': 445,\n",
       " 'don': 446,\n",
       " 'guess': 447,\n",
       " 'killer': 448,\n",
       " 'disappoint': 449,\n",
       " 'fail': 450,\n",
       " 'sort': 451,\n",
       " 'case': 452,\n",
       " 'child': 453,\n",
       " 'overall': 454,\n",
       " 'final': 455,\n",
       " 'train': 456,\n",
       " 'history': 457,\n",
       " 'mention': 458,\n",
       " 'hold': 459,\n",
       " 'cannot': 460,\n",
       " 'particularly': 461,\n",
       " 'on': 462,\n",
       " 'subject': 463,\n",
       " 'ones': 464,\n",
       " 'dance': 465,\n",
       " 'group': 466,\n",
       " 'highly': 467,\n",
       " 'career': 468,\n",
       " 'pull': 469,\n",
       " 'hero': 470,\n",
       " 'town': 471,\n",
       " 'power': 472,\n",
       " 'slow': 473,\n",
       " 'rent': 474,\n",
       " 'just': 475,\n",
       " 'level': 476,\n",
       " 'order': 477,\n",
       " 'middle': 478,\n",
       " 'extremely': 479,\n",
       " 'mr': 480,\n",
       " 'marry': 481,\n",
       " 'type': 482,\n",
       " 'cinema': 483,\n",
       " 'soon': 484,\n",
       " 'favorite': 485,\n",
       " 'dr': 486,\n",
       " 'heart': 487,\n",
       " 'drug': 488,\n",
       " 'convince': 489,\n",
       " 'actress': 490,\n",
       " 'realize': 491,\n",
       " 'daughter': 492,\n",
       " 'problem': 493,\n",
       " 'dumb': 494,\n",
       " 'choose': 495,\n",
       " 'violence': 496,\n",
       " 'result': 497,\n",
       " 'romantic': 498,\n",
       " 'grow': 499,\n",
       " 'score': 500,\n",
       " 'stick': 501,\n",
       " 'husband': 502,\n",
       " 'soldier': 503,\n",
       " 'due': 504,\n",
       " 'reality': 505,\n",
       " 'team': 506,\n",
       " 'five': 507,\n",
       " 'cinematography': 508,\n",
       " 'across': 509,\n",
       " 'opinion': 510,\n",
       " 'blood': 511,\n",
       " 'shots': 512,\n",
       " 'horrible': 513,\n",
       " 'charm': 514,\n",
       " 'girls': 515,\n",
       " 'silly': 516,\n",
       " 'capture': 517,\n",
       " 'simple': 518,\n",
       " 'jam': 519,\n",
       " 'edit': 520,\n",
       " 'annoy': 521,\n",
       " 's': 522,\n",
       " 'please': 523,\n",
       " 'cop': 524,\n",
       " 'rock': 525,\n",
       " 'walk': 526,\n",
       " 'form': 527,\n",
       " 'strong': 528,\n",
       " 'produce': 529,\n",
       " 'sing': 530,\n",
       " 'often': 531,\n",
       " 'ok': 532,\n",
       " 'self': 533,\n",
       " 'ways': 534,\n",
       " 'attention': 535,\n",
       " 'city': 536,\n",
       " 'none': 537,\n",
       " 'mostly': 538,\n",
       " 'television': 539,\n",
       " 'have': 540,\n",
       " 'huge': 541,\n",
       " 'wall': 542,\n",
       " 'suffer': 543,\n",
       " 'beyond': 544,\n",
       " 'relationship': 545,\n",
       " 'with': 546,\n",
       " 'general': 547,\n",
       " 'question': 548,\n",
       " 'compare': 549,\n",
       " 'four': 550,\n",
       " 'offer': 551,\n",
       " 'able': 552,\n",
       " 'serious': 553,\n",
       " 'pass': 554,\n",
       " 'draw': 555,\n",
       " 'message': 556,\n",
       " 'somewhat': 557,\n",
       " 'female': 558,\n",
       " 'hide': 559,\n",
       " 'decent': 560,\n",
       " 'future': 561,\n",
       " 'sometimes': 562,\n",
       " '8': 563,\n",
       " 'bear': 564,\n",
       " 'check': 565,\n",
       " 'certain': 566,\n",
       " 'non': 567,\n",
       " 'william': 568,\n",
       " 'near': 569,\n",
       " 'gun': 570,\n",
       " 'focus': 571,\n",
       " 'cool': 572,\n",
       " 'class': 573,\n",
       " 'wear': 574,\n",
       " 'brilliant': 575,\n",
       " 'dog': 576,\n",
       " 'figure': 577,\n",
       " 'strange': 578,\n",
       " 'seriously': 579,\n",
       " 'contain': 580,\n",
       " 'twist': 581,\n",
       " 'ridiculous': 582,\n",
       " 'song': 583,\n",
       " 'hour': 584,\n",
       " 'pace': 585,\n",
       " 'parent': 586,\n",
       " 'fine': 587,\n",
       " 'clich': 588,\n",
       " 'ten': 589,\n",
       " 'now': 590,\n",
       " 'moment': 591,\n",
       " 'writer': 592,\n",
       " 'weak': 593,\n",
       " 'complete': 594,\n",
       " 'talent': 595,\n",
       " 'whose': 596,\n",
       " 'thank': 597,\n",
       " 'discover': 598,\n",
       " 'enjoyable': 599,\n",
       " 'episodes': 600,\n",
       " 'scary': 601,\n",
       " 'america': 602,\n",
       " 'country': 603,\n",
       " 'build': 604,\n",
       " 'sequel': 605,\n",
       " 'late': 606,\n",
       " 'game': 607,\n",
       " 'inside': 608,\n",
       " 'prove': 609,\n",
       " 'chance': 610,\n",
       " '7': 611,\n",
       " 'avoid': 612,\n",
       " 'dream': 613,\n",
       " 'wish': 614,\n",
       " 'billy': 615,\n",
       " 'plan': 616,\n",
       " 'date': 617,\n",
       " 'note': 618,\n",
       " 'lady': 619,\n",
       " 'explain': 620,\n",
       " 'problems': 621,\n",
       " 'space': 622,\n",
       " 'footage': 623,\n",
       " 'atmosphere': 624,\n",
       " 'cheap': 625,\n",
       " 'theater': 626,\n",
       " 'provide': 627,\n",
       " 'recently': 628,\n",
       " 'speak': 629,\n",
       " 'remain': 630,\n",
       " 'basically': 631,\n",
       " 'exactly': 632,\n",
       " 'thriller': 633,\n",
       " 'events': 634,\n",
       " 'george': 635,\n",
       " 'fill': 636,\n",
       " 'forward': 637,\n",
       " 'king': 638,\n",
       " 'cry': 639,\n",
       " 'boys': 640,\n",
       " 'land': 641,\n",
       " 'charles': 642,\n",
       " 'alone': 643,\n",
       " 'apparently': 644,\n",
       " 'excite': 645,\n",
       " 'david': 646,\n",
       " 'e': 647,\n",
       " 'claim': 648,\n",
       " 'important': 649,\n",
       " 'plain': 650,\n",
       " 'political': 651,\n",
       " 'appreciate': 652,\n",
       " 'famous': 653,\n",
       " 'clear': 654,\n",
       " 'upon': 655,\n",
       " 'quickly': 656,\n",
       " 'most': 657,\n",
       " 'greatest': 658,\n",
       " 'viewer': 659,\n",
       " 'richard': 660,\n",
       " 'believable': 661,\n",
       " 'anyway': 662,\n",
       " 'value': 663,\n",
       " 'field': 664,\n",
       " 'red': 665,\n",
       " 'average': 666,\n",
       " 'single': 667,\n",
       " 'develop': 668,\n",
       " 'incredibly': 669,\n",
       " 'warn': 670,\n",
       " 'detail': 671,\n",
       " 'pop': 672,\n",
       " 'easy': 673,\n",
       " 'modern': 674,\n",
       " 'blow': 675,\n",
       " 'dull': 676,\n",
       " 'hell': 677,\n",
       " 'typical': 678,\n",
       " 'who': 679,\n",
       " 'hop': 680,\n",
       " 'brother': 681,\n",
       " 'jack': 682,\n",
       " 'gore': 683,\n",
       " 'doubt': 684,\n",
       " 'copy': 685,\n",
       " 'earth': 686,\n",
       " 'nearly': 687,\n",
       " 'reveal': 688,\n",
       " 'storyline': 689,\n",
       " 'fake': 690,\n",
       " 'english': 691,\n",
       " 'clearly': 692,\n",
       " 'dress': 693,\n",
       " 'ago': 694,\n",
       " 'mistake': 695,\n",
       " 'win': 696,\n",
       " 'relate': 697,\n",
       " 'major': 698,\n",
       " 'society': 699,\n",
       " 'robert': 700,\n",
       " 'truth': 701,\n",
       " 'treat': 702,\n",
       " 'soundtrack': 703,\n",
       " 'eventually': 704,\n",
       " 'hat': 705,\n",
       " 'camp': 706,\n",
       " 'continue': 707,\n",
       " 'cause': 708,\n",
       " 'box': 709,\n",
       " 'york': 710,\n",
       " 'brain': 711,\n",
       " 'within': 712,\n",
       " 'stories': 713,\n",
       " 'mystery': 714,\n",
       " 'ray': 715,\n",
       " 'difficult': 716,\n",
       " 'cat': 717,\n",
       " 'okay': 718,\n",
       " 'track': 719,\n",
       " 'allow': 720,\n",
       " 'record': 721,\n",
       " '6': 722,\n",
       " 'zombie': 723,\n",
       " 'imagine': 724,\n",
       " 'trouble': 725,\n",
       " 'dialog': 726,\n",
       " '9': 727,\n",
       " 'british': 728,\n",
       " 'sorry': 729,\n",
       " 'party': 730,\n",
       " 'usual': 731,\n",
       " 'sexual': 732,\n",
       " 'bill': 733,\n",
       " 'her': 734,\n",
       " 'local': 735,\n",
       " 'accent': 736,\n",
       " 'various': 737,\n",
       " 'bunch': 738,\n",
       " 'will': 739,\n",
       " 'remind': 740,\n",
       " 'fear': 741,\n",
       " 'project': 742,\n",
       " 'german': 743,\n",
       " 'roles': 744,\n",
       " 'shock': 745,\n",
       " 'bother': 746,\n",
       " 'from': 747,\n",
       " 'send': 748,\n",
       " 'entertainment': 749,\n",
       " 'french': 750,\n",
       " 'musical': 751,\n",
       " 'personal': 752,\n",
       " 'effort': 753,\n",
       " 'travel': 754,\n",
       " 'language': 755,\n",
       " 'western': 756,\n",
       " 'somehow': 757,\n",
       " 'michael': 758,\n",
       " 'usually': 759,\n",
       " 'interview': 760,\n",
       " 'issue': 761,\n",
       " 'free': 762,\n",
       " 'mary': 763,\n",
       " 'oscar': 764,\n",
       " 'pure': 765,\n",
       " 'search': 766,\n",
       " 'water': 767,\n",
       " 'alien': 768,\n",
       " 'christmas': 769,\n",
       " 'similar': 770,\n",
       " 'ed': 771,\n",
       " 'company': 772,\n",
       " 'writers': 773,\n",
       " 'cover': 774,\n",
       " 'tale': 775,\n",
       " 'novel': 776,\n",
       " 'costume': 777,\n",
       " 'outside': 778,\n",
       " 'rise': 779,\n",
       " 'filmmakers': 780,\n",
       " 'an': 781,\n",
       " 'comic': 782,\n",
       " 'happy': 783,\n",
       " 'sister': 784,\n",
       " 'describe': 785,\n",
       " 'suggest': 786,\n",
       " 'straight': 787,\n",
       " 'era': 788,\n",
       " 'mad': 789,\n",
       " 'hunt': 790,\n",
       " 'by': 791,\n",
       " 'monster': 792,\n",
       " 'band': 793,\n",
       " 'grace': 794,\n",
       " 'plane': 795,\n",
       " 'deliver': 796,\n",
       " 'inspire': 797,\n",
       " 'otherwise': 798,\n",
       " 'suck': 799,\n",
       " 'sweet': 800,\n",
       " 'mark': 801,\n",
       " 'unlike': 802,\n",
       " 'appeal': 803,\n",
       " 'material': 804,\n",
       " 'display': 805,\n",
       " 'roll': 806,\n",
       " 'scott': 807,\n",
       " 'board': 808,\n",
       " 'eat': 809,\n",
       " 'songs': 810,\n",
       " 'gay': 811,\n",
       " 'third': 812,\n",
       " 'viewers': 813,\n",
       " 'lie': 814,\n",
       " 'premise': 815,\n",
       " 'count': 816,\n",
       " 'escape': 817,\n",
       " 'beat': 818,\n",
       " 'location': 819,\n",
       " 'ideas': 820,\n",
       " 'previous': 821,\n",
       " 'carry': 822,\n",
       " 'cartoon': 823,\n",
       " 'control': 824,\n",
       " 'term': 825,\n",
       " 'folks': 826,\n",
       " 'realistic': 827,\n",
       " 'plenty': 828,\n",
       " 'whether': 829,\n",
       " 'flaw': 830,\n",
       " 'ghost': 831,\n",
       " 'among': 832,\n",
       " 'o': 833,\n",
       " 'alive': 834,\n",
       " 'elements': 835,\n",
       " 'masterpiece': 836,\n",
       " 'crime': 837,\n",
       " 'vampire': 838,\n",
       " 'front': 839,\n",
       " 'easily': 840,\n",
       " 'brief': 841,\n",
       " 'situation': 842,\n",
       " 'attack': 843,\n",
       " 'torture': 844,\n",
       " 'fairly': 845,\n",
       " 'co': 846,\n",
       " 'public': 847,\n",
       " 'choice': 848,\n",
       " 'hot': 849,\n",
       " 'jump': 850,\n",
       " 'where': 851,\n",
       " 'tire': 852,\n",
       " 'minute': 853,\n",
       " 'chase': 854,\n",
       " 'government': 855,\n",
       " 'trek': 856,\n",
       " 'girlfriend': 857,\n",
       " 'superb': 858,\n",
       " 'generally': 859,\n",
       " 'regard': 860,\n",
       " 'deep': 861,\n",
       " 'respect': 862,\n",
       " 'aspect': 863,\n",
       " 'u': 864,\n",
       " 'development': 865,\n",
       " 'spirit': 866,\n",
       " 'rich': 867,\n",
       " 'cheesy': 868,\n",
       " 'purpose': 869,\n",
       " 'agree': 870,\n",
       " 'limit': 871,\n",
       " 'period': 872,\n",
       " 'trap': 873,\n",
       " 'massacre': 874,\n",
       " 'mess': 875,\n",
       " 'battle': 876,\n",
       " 'jim': 877,\n",
       " 'possibly': 878,\n",
       " 'fantastic': 879,\n",
       " 'former': 880,\n",
       " 'survive': 881,\n",
       " 'revenge': 882,\n",
       " 'unique': 883,\n",
       " 'lisa': 884,\n",
       " 'seek': 885,\n",
       " 'disappointment': 886,\n",
       " 'color': 887,\n",
       " 'baby': 888,\n",
       " 'office': 889,\n",
       " 'danny': 890,\n",
       " 'powerful': 891,\n",
       " 'which': 892,\n",
       " 'serve': 893,\n",
       " 'spoilers': 894,\n",
       " 'air': 895,\n",
       " 'listen': 896,\n",
       " 'creepy': 897,\n",
       " 'male': 898,\n",
       " 'fast': 899,\n",
       " 'stage': 900,\n",
       " 'cute': 901,\n",
       " 'towards': 902,\n",
       " '20': 903,\n",
       " 'fire': 904,\n",
       " 'arthur': 905,\n",
       " 'mix': 906,\n",
       " 'ring': 907,\n",
       " 'match': 908,\n",
       " 'teen': 909,\n",
       " 'apart': 910,\n",
       " 'garfield': 911,\n",
       " 'nature': 912,\n",
       " 'actual': 913,\n",
       " 'total': 914,\n",
       " 'members': 915,\n",
       " 'very': 916,\n",
       " 'villain': 917,\n",
       " 'dramatic': 918,\n",
       " 'street': 919,\n",
       " 'destroy': 920,\n",
       " 'jackson': 921,\n",
       " 'wind': 922,\n",
       " 'tune': 923,\n",
       " 'pilot': 924,\n",
       " 'secret': 925,\n",
       " 'success': 926,\n",
       " 'amount': 927,\n",
       " 'week': 928,\n",
       " 'scream': 929,\n",
       " 'poorly': 930,\n",
       " 'earlier': 931,\n",
       " 'content': 932,\n",
       " 'badly': 933,\n",
       " 'lovely': 934,\n",
       " 'entirely': 935,\n",
       " 'hole': 936,\n",
       " 'expectations': 937,\n",
       " 'exist': 938,\n",
       " 'taste': 939,\n",
       " 'peter': 940,\n",
       " 'lee': 941,\n",
       " 'these': 942,\n",
       " 'background': 943,\n",
       " 'perfectly': 944,\n",
       " 't': 945,\n",
       " 'shame': 946,\n",
       " 'confuse': 947,\n",
       " 'finish': 948,\n",
       " 'remake': 949,\n",
       " 'green': 950,\n",
       " 'compel': 951,\n",
       " 'approach': 952,\n",
       " 'tension': 953,\n",
       " 'notice': 954,\n",
       " '80': 955,\n",
       " 'de': 956,\n",
       " 'horse': 957,\n",
       " 'social': 958,\n",
       " 'phone': 959,\n",
       " 'paris': 960,\n",
       " 'culture': 961,\n",
       " 'accept': 962,\n",
       " 'adult': 963,\n",
       " 'common': 964,\n",
       " 'suspense': 965,\n",
       " 'fit': 966,\n",
       " 'bruce': 967,\n",
       " 'christian': 968,\n",
       " 'younger': 969,\n",
       " 'burn': 970,\n",
       " 'or': 971,\n",
       " 'passion': 972,\n",
       " 'lame': 973,\n",
       " 'nudity': 974,\n",
       " 'available': 975,\n",
       " 'likely': 976,\n",
       " 'normal': 977,\n",
       " 'von': 978,\n",
       " 'mainly': 979,\n",
       " 'chemistry': 980,\n",
       " 'somewhere': 981,\n",
       " 'perform': 982,\n",
       " 'concern': 983,\n",
       " 'explore': 984,\n",
       " 'animation': 985,\n",
       " 'humour': 986,\n",
       " 'imdb': 987,\n",
       " 'tom': 988,\n",
       " 'successful': 989,\n",
       " 'difference': 990,\n",
       " 'eddie': 991,\n",
       " 'receive': 992,\n",
       " 'nazi': 993,\n",
       " 'particular': 994,\n",
       " 'grade': 995,\n",
       " 'beauty': 996,\n",
       " 'struggle': 997,\n",
       " 'directors': 998,\n",
       " 'ex': 999,\n",
       " 'cult': 1000,\n",
       " ...}"
      ]
     },
     "execution_count": 25,
     "metadata": {},
     "output_type": "execute_result"
    }
   ],
   "source": [
    "tokenizer.word_index"
   ]
  },
  {
   "cell_type": "code",
   "execution_count": 26,
   "id": "932c862f",
   "metadata": {},
   "outputs": [],
   "source": [
    "vocab_size = len(tokenizer.word_index) + 1"
   ]
  },
  {
   "cell_type": "code",
   "execution_count": 27,
   "id": "87455cab",
   "metadata": {},
   "outputs": [],
   "source": [
    "def text_encoding(txt):\n",
    "    encoded_docs=tokenizer.texts_to_sequences(txt)\n",
    "    padded_sequences=pad_sequences(encoded_docs,maxlen=128)\n",
    "    return padded_sequences"
   ]
  },
  {
   "cell_type": "code",
   "execution_count": 28,
   "id": "d1ad92d4",
   "metadata": {},
   "outputs": [],
   "source": [
    "X_train = text_encoding(X_train)\n",
    "X_test = text_encoding(X_test)"
   ]
  },
  {
   "cell_type": "code",
   "execution_count": 29,
   "id": "0743c876",
   "metadata": {},
   "outputs": [
    {
     "data": {
      "text/plain": [
       "(800, 128)"
      ]
     },
     "execution_count": 29,
     "metadata": {},
     "output_type": "execute_result"
    }
   ],
   "source": [
    "X_train.shape"
   ]
  },
  {
   "cell_type": "code",
   "execution_count": 30,
   "id": "1b18682c",
   "metadata": {},
   "outputs": [
    {
     "data": {
      "text/plain": [
       "(200, 128)"
      ]
     },
     "execution_count": 30,
     "metadata": {},
     "output_type": "execute_result"
    }
   ],
   "source": [
    "X_test.shape"
   ]
  },
  {
   "cell_type": "code",
   "execution_count": 31,
   "id": "15a3c3a6",
   "metadata": {},
   "outputs": [
    {
     "data": {
      "text/plain": [
       "(200, 1)"
      ]
     },
     "execution_count": 31,
     "metadata": {},
     "output_type": "execute_result"
    }
   ],
   "source": [
    "y_test.shape"
   ]
  },
  {
   "cell_type": "code",
   "execution_count": 32,
   "id": "e7ac8383",
   "metadata": {},
   "outputs": [
    {
     "data": {
      "text/plain": [
       "(800, 1)"
      ]
     },
     "execution_count": 32,
     "metadata": {},
     "output_type": "execute_result"
    }
   ],
   "source": [
    "y_train.shape"
   ]
  },
  {
   "cell_type": "code",
   "execution_count": 36,
   "id": "fbef50b1",
   "metadata": {},
   "outputs": [],
   "source": [
    "from keras.models import Sequential\n",
    "from keras.layers import Embedding, Bidirectional, LSTM, Dropout, Dense\n"
   ]
  },
  {
   "cell_type": "code",
   "execution_count": 37,
   "id": "e5a9b85f",
   "metadata": {},
   "outputs": [
    {
     "data": {
      "text/html": [
       "<pre style=\"white-space:pre;overflow-x:auto;line-height:normal;font-family:Menlo,'DejaVu Sans Mono',consolas,'Courier New',monospace\"><span style=\"font-weight: bold\">Model: \"sequential_2\"</span>\n",
       "</pre>\n"
      ],
      "text/plain": [
       "\u001b[1mModel: \"sequential_2\"\u001b[0m\n"
      ]
     },
     "metadata": {},
     "output_type": "display_data"
    },
    {
     "data": {
      "text/html": [
       "<pre style=\"white-space:pre;overflow-x:auto;line-height:normal;font-family:Menlo,'DejaVu Sans Mono',consolas,'Courier New',monospace\">┏━━━━━━━━━━━━━━━━━━━━━━━━━━━━━━━━━━━━━━┳━━━━━━━━━━━━━━━━━━━━━━━━━━━━━┳━━━━━━━━━━━━━━━━━┓\n",
       "┃<span style=\"font-weight: bold\"> Layer (type)                         </span>┃<span style=\"font-weight: bold\"> Output Shape                </span>┃<span style=\"font-weight: bold\">         Param # </span>┃\n",
       "┡━━━━━━━━━━━━━━━━━━━━━━━━━━━━━━━━━━━━━━╇━━━━━━━━━━━━━━━━━━━━━━━━━━━━━╇━━━━━━━━━━━━━━━━━┩\n",
       "│ embedding (<span style=\"color: #0087ff; text-decoration-color: #0087ff\">Embedding</span>)                │ ?                           │     <span style=\"color: #00af00; text-decoration-color: #00af00\">0</span> (unbuilt) │\n",
       "├──────────────────────────────────────┼─────────────────────────────┼─────────────────┤\n",
       "│ bidirectional (<span style=\"color: #0087ff; text-decoration-color: #0087ff\">Bidirectional</span>)        │ ?                           │     <span style=\"color: #00af00; text-decoration-color: #00af00\">0</span> (unbuilt) │\n",
       "├──────────────────────────────────────┼─────────────────────────────┼─────────────────┤\n",
       "│ dropout (<span style=\"color: #0087ff; text-decoration-color: #0087ff\">Dropout</span>)                    │ ?                           │               <span style=\"color: #00af00; text-decoration-color: #00af00\">0</span> │\n",
       "├──────────────────────────────────────┼─────────────────────────────┼─────────────────┤\n",
       "│ bidirectional_1 (<span style=\"color: #0087ff; text-decoration-color: #0087ff\">Bidirectional</span>)      │ ?                           │     <span style=\"color: #00af00; text-decoration-color: #00af00\">0</span> (unbuilt) │\n",
       "├──────────────────────────────────────┼─────────────────────────────┼─────────────────┤\n",
       "│ dropout_1 (<span style=\"color: #0087ff; text-decoration-color: #0087ff\">Dropout</span>)                  │ ?                           │               <span style=\"color: #00af00; text-decoration-color: #00af00\">0</span> │\n",
       "├──────────────────────────────────────┼─────────────────────────────┼─────────────────┤\n",
       "│ dense (<span style=\"color: #0087ff; text-decoration-color: #0087ff\">Dense</span>)                        │ ?                           │     <span style=\"color: #00af00; text-decoration-color: #00af00\">0</span> (unbuilt) │\n",
       "└──────────────────────────────────────┴─────────────────────────────┴─────────────────┘\n",
       "</pre>\n"
      ],
      "text/plain": [
       "┏━━━━━━━━━━━━━━━━━━━━━━━━━━━━━━━━━━━━━━┳━━━━━━━━━━━━━━━━━━━━━━━━━━━━━┳━━━━━━━━━━━━━━━━━┓\n",
       "┃\u001b[1m \u001b[0m\u001b[1mLayer (type)                        \u001b[0m\u001b[1m \u001b[0m┃\u001b[1m \u001b[0m\u001b[1mOutput Shape               \u001b[0m\u001b[1m \u001b[0m┃\u001b[1m \u001b[0m\u001b[1m        Param #\u001b[0m\u001b[1m \u001b[0m┃\n",
       "┡━━━━━━━━━━━━━━━━━━━━━━━━━━━━━━━━━━━━━━╇━━━━━━━━━━━━━━━━━━━━━━━━━━━━━╇━━━━━━━━━━━━━━━━━┩\n",
       "│ embedding (\u001b[38;5;33mEmbedding\u001b[0m)                │ ?                           │     \u001b[38;5;34m0\u001b[0m (unbuilt) │\n",
       "├──────────────────────────────────────┼─────────────────────────────┼─────────────────┤\n",
       "│ bidirectional (\u001b[38;5;33mBidirectional\u001b[0m)        │ ?                           │     \u001b[38;5;34m0\u001b[0m (unbuilt) │\n",
       "├──────────────────────────────────────┼─────────────────────────────┼─────────────────┤\n",
       "│ dropout (\u001b[38;5;33mDropout\u001b[0m)                    │ ?                           │               \u001b[38;5;34m0\u001b[0m │\n",
       "├──────────────────────────────────────┼─────────────────────────────┼─────────────────┤\n",
       "│ bidirectional_1 (\u001b[38;5;33mBidirectional\u001b[0m)      │ ?                           │     \u001b[38;5;34m0\u001b[0m (unbuilt) │\n",
       "├──────────────────────────────────────┼─────────────────────────────┼─────────────────┤\n",
       "│ dropout_1 (\u001b[38;5;33mDropout\u001b[0m)                  │ ?                           │               \u001b[38;5;34m0\u001b[0m │\n",
       "├──────────────────────────────────────┼─────────────────────────────┼─────────────────┤\n",
       "│ dense (\u001b[38;5;33mDense\u001b[0m)                        │ ?                           │     \u001b[38;5;34m0\u001b[0m (unbuilt) │\n",
       "└──────────────────────────────────────┴─────────────────────────────┴─────────────────┘\n"
      ]
     },
     "metadata": {},
     "output_type": "display_data"
    },
    {
     "data": {
      "text/html": [
       "<pre style=\"white-space:pre;overflow-x:auto;line-height:normal;font-family:Menlo,'DejaVu Sans Mono',consolas,'Courier New',monospace\"><span style=\"font-weight: bold\"> Total params: </span><span style=\"color: #00af00; text-decoration-color: #00af00\">0</span> (0.00 B)\n",
       "</pre>\n"
      ],
      "text/plain": [
       "\u001b[1m Total params: \u001b[0m\u001b[38;5;34m0\u001b[0m (0.00 B)\n"
      ]
     },
     "metadata": {},
     "output_type": "display_data"
    },
    {
     "data": {
      "text/html": [
       "<pre style=\"white-space:pre;overflow-x:auto;line-height:normal;font-family:Menlo,'DejaVu Sans Mono',consolas,'Courier New',monospace\"><span style=\"font-weight: bold\"> Trainable params: </span><span style=\"color: #00af00; text-decoration-color: #00af00\">0</span> (0.00 B)\n",
       "</pre>\n"
      ],
      "text/plain": [
       "\u001b[1m Trainable params: \u001b[0m\u001b[38;5;34m0\u001b[0m (0.00 B)\n"
      ]
     },
     "metadata": {},
     "output_type": "display_data"
    },
    {
     "data": {
      "text/html": [
       "<pre style=\"white-space:pre;overflow-x:auto;line-height:normal;font-family:Menlo,'DejaVu Sans Mono',consolas,'Courier New',monospace\"><span style=\"font-weight: bold\"> Non-trainable params: </span><span style=\"color: #00af00; text-decoration-color: #00af00\">0</span> (0.00 B)\n",
       "</pre>\n"
      ],
      "text/plain": [
       "\u001b[1m Non-trainable params: \u001b[0m\u001b[38;5;34m0\u001b[0m (0.00 B)\n"
      ]
     },
     "metadata": {},
     "output_type": "display_data"
    }
   ],
   "source": [
    "embedding_dim = 128\n",
    "\n",
    "model = Sequential()\n",
    "model.add(Embedding(input_dim=vocab_size, output_dim=embedding_dim))\n",
    "model.add(Bidirectional(LSTM(units=128, return_sequences=True)))\n",
    "model.add(Dropout(0.2))\n",
    "model.add(Bidirectional(LSTM(units=128)))\n",
    "model.add(Dropout(0.2))\n",
    "model.add(Dense(1, activation='sigmoid'))\n",
    "\n",
    "# Compile the model\n",
    "model.summary()"
   ]
  },
  {
   "cell_type": "code",
   "execution_count": 38,
   "id": "8f732aed",
   "metadata": {},
   "outputs": [
    {
     "data": {
      "text/html": [
       "<pre style=\"white-space:pre;overflow-x:auto;line-height:normal;font-family:Menlo,'DejaVu Sans Mono',consolas,'Courier New',monospace\"><span style=\"font-weight: bold\">Model: \"sequential_2\"</span>\n",
       "</pre>\n"
      ],
      "text/plain": [
       "\u001b[1mModel: \"sequential_2\"\u001b[0m\n"
      ]
     },
     "metadata": {},
     "output_type": "display_data"
    },
    {
     "data": {
      "text/html": [
       "<pre style=\"white-space:pre;overflow-x:auto;line-height:normal;font-family:Menlo,'DejaVu Sans Mono',consolas,'Courier New',monospace\">┏━━━━━━━━━━━━━━━━━━━━━━━━━━━━━━━━━━━━━━┳━━━━━━━━━━━━━━━━━━━━━━━━━━━━━┳━━━━━━━━━━━━━━━━━┓\n",
       "┃<span style=\"font-weight: bold\"> Layer (type)                         </span>┃<span style=\"font-weight: bold\"> Output Shape                </span>┃<span style=\"font-weight: bold\">         Param # </span>┃\n",
       "┡━━━━━━━━━━━━━━━━━━━━━━━━━━━━━━━━━━━━━━╇━━━━━━━━━━━━━━━━━━━━━━━━━━━━━╇━━━━━━━━━━━━━━━━━┩\n",
       "│ embedding (<span style=\"color: #0087ff; text-decoration-color: #0087ff\">Embedding</span>)                │ ?                           │     <span style=\"color: #00af00; text-decoration-color: #00af00\">0</span> (unbuilt) │\n",
       "├──────────────────────────────────────┼─────────────────────────────┼─────────────────┤\n",
       "│ bidirectional (<span style=\"color: #0087ff; text-decoration-color: #0087ff\">Bidirectional</span>)        │ ?                           │     <span style=\"color: #00af00; text-decoration-color: #00af00\">0</span> (unbuilt) │\n",
       "├──────────────────────────────────────┼─────────────────────────────┼─────────────────┤\n",
       "│ dropout (<span style=\"color: #0087ff; text-decoration-color: #0087ff\">Dropout</span>)                    │ ?                           │               <span style=\"color: #00af00; text-decoration-color: #00af00\">0</span> │\n",
       "├──────────────────────────────────────┼─────────────────────────────┼─────────────────┤\n",
       "│ bidirectional_1 (<span style=\"color: #0087ff; text-decoration-color: #0087ff\">Bidirectional</span>)      │ ?                           │     <span style=\"color: #00af00; text-decoration-color: #00af00\">0</span> (unbuilt) │\n",
       "├──────────────────────────────────────┼─────────────────────────────┼─────────────────┤\n",
       "│ dropout_1 (<span style=\"color: #0087ff; text-decoration-color: #0087ff\">Dropout</span>)                  │ ?                           │               <span style=\"color: #00af00; text-decoration-color: #00af00\">0</span> │\n",
       "├──────────────────────────────────────┼─────────────────────────────┼─────────────────┤\n",
       "│ dense (<span style=\"color: #0087ff; text-decoration-color: #0087ff\">Dense</span>)                        │ ?                           │     <span style=\"color: #00af00; text-decoration-color: #00af00\">0</span> (unbuilt) │\n",
       "└──────────────────────────────────────┴─────────────────────────────┴─────────────────┘\n",
       "</pre>\n"
      ],
      "text/plain": [
       "┏━━━━━━━━━━━━━━━━━━━━━━━━━━━━━━━━━━━━━━┳━━━━━━━━━━━━━━━━━━━━━━━━━━━━━┳━━━━━━━━━━━━━━━━━┓\n",
       "┃\u001b[1m \u001b[0m\u001b[1mLayer (type)                        \u001b[0m\u001b[1m \u001b[0m┃\u001b[1m \u001b[0m\u001b[1mOutput Shape               \u001b[0m\u001b[1m \u001b[0m┃\u001b[1m \u001b[0m\u001b[1m        Param #\u001b[0m\u001b[1m \u001b[0m┃\n",
       "┡━━━━━━━━━━━━━━━━━━━━━━━━━━━━━━━━━━━━━━╇━━━━━━━━━━━━━━━━━━━━━━━━━━━━━╇━━━━━━━━━━━━━━━━━┩\n",
       "│ embedding (\u001b[38;5;33mEmbedding\u001b[0m)                │ ?                           │     \u001b[38;5;34m0\u001b[0m (unbuilt) │\n",
       "├──────────────────────────────────────┼─────────────────────────────┼─────────────────┤\n",
       "│ bidirectional (\u001b[38;5;33mBidirectional\u001b[0m)        │ ?                           │     \u001b[38;5;34m0\u001b[0m (unbuilt) │\n",
       "├──────────────────────────────────────┼─────────────────────────────┼─────────────────┤\n",
       "│ dropout (\u001b[38;5;33mDropout\u001b[0m)                    │ ?                           │               \u001b[38;5;34m0\u001b[0m │\n",
       "├──────────────────────────────────────┼─────────────────────────────┼─────────────────┤\n",
       "│ bidirectional_1 (\u001b[38;5;33mBidirectional\u001b[0m)      │ ?                           │     \u001b[38;5;34m0\u001b[0m (unbuilt) │\n",
       "├──────────────────────────────────────┼─────────────────────────────┼─────────────────┤\n",
       "│ dropout_1 (\u001b[38;5;33mDropout\u001b[0m)                  │ ?                           │               \u001b[38;5;34m0\u001b[0m │\n",
       "├──────────────────────────────────────┼─────────────────────────────┼─────────────────┤\n",
       "│ dense (\u001b[38;5;33mDense\u001b[0m)                        │ ?                           │     \u001b[38;5;34m0\u001b[0m (unbuilt) │\n",
       "└──────────────────────────────────────┴─────────────────────────────┴─────────────────┘\n"
      ]
     },
     "metadata": {},
     "output_type": "display_data"
    },
    {
     "data": {
      "text/html": [
       "<pre style=\"white-space:pre;overflow-x:auto;line-height:normal;font-family:Menlo,'DejaVu Sans Mono',consolas,'Courier New',monospace\"><span style=\"font-weight: bold\"> Total params: </span><span style=\"color: #00af00; text-decoration-color: #00af00\">0</span> (0.00 B)\n",
       "</pre>\n"
      ],
      "text/plain": [
       "\u001b[1m Total params: \u001b[0m\u001b[38;5;34m0\u001b[0m (0.00 B)\n"
      ]
     },
     "metadata": {},
     "output_type": "display_data"
    },
    {
     "data": {
      "text/html": [
       "<pre style=\"white-space:pre;overflow-x:auto;line-height:normal;font-family:Menlo,'DejaVu Sans Mono',consolas,'Courier New',monospace\"><span style=\"font-weight: bold\"> Trainable params: </span><span style=\"color: #00af00; text-decoration-color: #00af00\">0</span> (0.00 B)\n",
       "</pre>\n"
      ],
      "text/plain": [
       "\u001b[1m Trainable params: \u001b[0m\u001b[38;5;34m0\u001b[0m (0.00 B)\n"
      ]
     },
     "metadata": {},
     "output_type": "display_data"
    },
    {
     "data": {
      "text/html": [
       "<pre style=\"white-space:pre;overflow-x:auto;line-height:normal;font-family:Menlo,'DejaVu Sans Mono',consolas,'Courier New',monospace\"><span style=\"font-weight: bold\"> Non-trainable params: </span><span style=\"color: #00af00; text-decoration-color: #00af00\">0</span> (0.00 B)\n",
       "</pre>\n"
      ],
      "text/plain": [
       "\u001b[1m Non-trainable params: \u001b[0m\u001b[38;5;34m0\u001b[0m (0.00 B)\n"
      ]
     },
     "metadata": {},
     "output_type": "display_data"
    }
   ],
   "source": [
    "model.summary()"
   ]
  },
  {
   "cell_type": "code",
   "execution_count": 39,
   "id": "deffec89",
   "metadata": {},
   "outputs": [],
   "source": [
    "model.compile(optimizer='adam', loss='binary_crossentropy', metrics=['accuracy'])"
   ]
  },
  {
   "cell_type": "code",
   "execution_count": 40,
   "id": "832f95a5",
   "metadata": {},
   "outputs": [
    {
     "name": "stdout",
     "output_type": "stream",
     "text": [
      "Epoch 1/10\n",
      "\u001b[1m20/20\u001b[0m \u001b[32m━━━━━━━━━━━━━━━━━━━━\u001b[0m\u001b[37m\u001b[0m \u001b[1m15s\u001b[0m 323ms/step - accuracy: 0.5192 - loss: 0.6930 - val_accuracy: 0.6062 - val_loss: 0.6589\n",
      "Epoch 2/10\n",
      "\u001b[1m20/20\u001b[0m \u001b[32m━━━━━━━━━━━━━━━━━━━━\u001b[0m\u001b[37m\u001b[0m \u001b[1m5s\u001b[0m 258ms/step - accuracy: 0.7191 - loss: 0.6066 - val_accuracy: 0.6250 - val_loss: 0.6476\n",
      "Epoch 3/10\n",
      "\u001b[1m20/20\u001b[0m \u001b[32m━━━━━━━━━━━━━━━━━━━━\u001b[0m\u001b[37m\u001b[0m \u001b[1m5s\u001b[0m 255ms/step - accuracy: 0.7459 - loss: 0.5155 - val_accuracy: 0.6375 - val_loss: 0.6420\n",
      "Epoch 4/10\n",
      "\u001b[1m20/20\u001b[0m \u001b[32m━━━━━━━━━━━━━━━━━━━━\u001b[0m\u001b[37m\u001b[0m \u001b[1m5s\u001b[0m 255ms/step - accuracy: 0.7693 - loss: 0.4848 - val_accuracy: 0.6750 - val_loss: 0.6610\n",
      "Epoch 5/10\n",
      "\u001b[1m20/20\u001b[0m \u001b[32m━━━━━━━━━━━━━━━━━━━━\u001b[0m\u001b[37m\u001b[0m \u001b[1m5s\u001b[0m 259ms/step - accuracy: 0.8177 - loss: 0.4253 - val_accuracy: 0.7188 - val_loss: 0.6603\n",
      "Epoch 6/10\n",
      "\u001b[1m20/20\u001b[0m \u001b[32m━━━━━━━━━━━━━━━━━━━━\u001b[0m\u001b[37m\u001b[0m \u001b[1m5s\u001b[0m 258ms/step - accuracy: 0.8188 - loss: 0.4086 - val_accuracy: 0.6625 - val_loss: 0.6985\n",
      "Epoch 7/10\n",
      "\u001b[1m20/20\u001b[0m \u001b[32m━━━━━━━━━━━━━━━━━━━━\u001b[0m\u001b[37m\u001b[0m \u001b[1m5s\u001b[0m 258ms/step - accuracy: 0.8483 - loss: 0.3634 - val_accuracy: 0.6500 - val_loss: 0.6892\n",
      "Epoch 8/10\n",
      "\u001b[1m20/20\u001b[0m \u001b[32m━━━━━━━━━━━━━━━━━━━━\u001b[0m\u001b[37m\u001b[0m \u001b[1m5s\u001b[0m 253ms/step - accuracy: 0.8952 - loss: 0.2998 - val_accuracy: 0.6250 - val_loss: 0.8099\n",
      "Epoch 9/10\n",
      "\u001b[1m20/20\u001b[0m \u001b[32m━━━━━━━━━━━━━━━━━━━━\u001b[0m\u001b[37m\u001b[0m \u001b[1m5s\u001b[0m 257ms/step - accuracy: 0.8516 - loss: 0.3414 - val_accuracy: 0.6187 - val_loss: 0.7841\n",
      "Epoch 10/10\n",
      "\u001b[1m20/20\u001b[0m \u001b[32m━━━━━━━━━━━━━━━━━━━━\u001b[0m\u001b[37m\u001b[0m \u001b[1m5s\u001b[0m 256ms/step - accuracy: 0.9053 - loss: 0.2787 - val_accuracy: 0.6812 - val_loss: 0.7452\n"
     ]
    },
    {
     "data": {
      "text/plain": [
       "<keras.src.callbacks.history.History at 0x205c3e811d0>"
      ]
     },
     "execution_count": 40,
     "metadata": {},
     "output_type": "execute_result"
    }
   ],
   "source": [
    "model.fit(X_train, y_train, epochs=10, validation_split = 0.2)"
   ]
  },
  {
   "cell_type": "code",
   "execution_count": 41,
   "id": "3645516e",
   "metadata": {},
   "outputs": [
    {
     "name": "stdout",
     "output_type": "stream",
     "text": [
      "\u001b[1m7/7\u001b[0m \u001b[32m━━━━━━━━━━━━━━━━━━━━\u001b[0m\u001b[37m\u001b[0m \u001b[1m3s\u001b[0m 289ms/step\n"
     ]
    }
   ],
   "source": [
    "y_pred=model.predict(X_test)"
   ]
  },
  {
   "cell_type": "code",
   "execution_count": 42,
   "id": "84d5662a",
   "metadata": {},
   "outputs": [],
   "source": [
    "def convert_to_class(y_pred):\n",
    "    class_labels = []\n",
    "    for i in y_pred:\n",
    "        if i < 0.5:\n",
    "            class_labels.append(0)\n",
    "        else:\n",
    "            class_labels.append(1)\n",
    "    return class_labels"
   ]
  },
  {
   "cell_type": "code",
   "execution_count": 43,
   "id": "c891a20b",
   "metadata": {},
   "outputs": [],
   "source": [
    "predicted_classes = convert_to_class(y_pred)"
   ]
  },
  {
   "cell_type": "code",
   "execution_count": 44,
   "id": "299f4291",
   "metadata": {},
   "outputs": [],
   "source": [
    "from sklearn.metrics import confusion_matrix, classification_report, accuracy_score"
   ]
  },
  {
   "cell_type": "code",
   "execution_count": 45,
   "id": "4212531f",
   "metadata": {},
   "outputs": [
    {
     "data": {
      "text/plain": [
       "0.68"
      ]
     },
     "execution_count": 45,
     "metadata": {},
     "output_type": "execute_result"
    }
   ],
   "source": [
    "accuracy_score(y_test,predicted_classes)"
   ]
  },
  {
   "cell_type": "code",
   "execution_count": 46,
   "id": "1df5cc85",
   "metadata": {},
   "outputs": [
    {
     "data": {
      "text/plain": [
       "<Axes: >"
      ]
     },
     "execution_count": 46,
     "metadata": {},
     "output_type": "execute_result"
    },
    {
     "data": {
      "image/png": "[encoded data removed]",
      "text/plain": [
       "<Figure size 640x480 with 2 Axes>"
      ]
     },
     "metadata": {},
     "output_type": "display_data"
    }
   ],
   "source": [
    "sns.heatmap(confusion_matrix(y_test,predicted_classes),annot=True,fmt='d')"
   ]
  },
  {
   "cell_type": "code",
   "execution_count": 47,
   "id": "75638e3e",
   "metadata": {},
   "outputs": [
    {
     "name": "stdout",
     "output_type": "stream",
     "text": [
      "              precision    recall  f1-score   support\n",
      "\n",
      "           0       0.66      0.70      0.68        98\n",
      "           1       0.70      0.66      0.68       102\n",
      "\n",
      "    accuracy                           0.68       200\n",
      "   macro avg       0.68      0.68      0.68       200\n",
      "weighted avg       0.68      0.68      0.68       200\n",
      "\n"
     ]
    }
   ],
   "source": [
    "print(classification_report(y_test,predicted_classes))"
   ]
  }
 ],
 "metadata": {
  "kernelspec": {
   "display_name": "Python 3 (ipykernel)",
   "language": "python",
   "name": "python3"
  },
  "language_info": {
   "codemirror_mode": {
    "name": "ipython",
    "version": 3
   },
   "file_extension": ".py",
   "mimetype": "text/x-python",
   "name": "python",
   "nbconvert_exporter": "python",
   "pygments_lexer": "ipython3",
   "version": "3.11.5"
  }
 },
 "nbformat": 4,
 "nbformat_minor": 5
}
